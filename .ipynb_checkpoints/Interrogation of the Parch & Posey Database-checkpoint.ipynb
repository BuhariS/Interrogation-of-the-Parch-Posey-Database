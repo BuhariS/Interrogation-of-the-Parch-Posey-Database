{
 "cells": [
  {
   "cell_type": "markdown",
   "id": "8f03bb2b",
   "metadata": {},
   "source": [
    "<!DOCTYPE html>\n",
    "<head>\n",
    "    <meta charset=\"utf-8\">\n",
    "    <link rel=\"stylesheet\" href=\"styles.css\">\n",
    "    <link href='https://fonts.googleapis.com/css?family=Merriweather' rel='stylesheet'>\n",
    "    <div style=\"background-color: #3D0069; color: white ; font-family: 'Merriweather'; font-weight: bold; text-align: center; padding: 40px 0; font-size: 16px;\">\n",
    "    <h1>Interrogation of the Parch & Posey Database</h1>\n",
    "        by\n",
    "    \n",
    "    Buhari Shehu (The Datavestigator)\n",
    "    \n",
    "\n",
    "</head>\n"
   ]
  },
  {
   "cell_type": "markdown",
   "id": "ab08fa1e",
   "metadata": {},
   "source": [
    "<h2 style=\"background-color: #F5E8DA; color: #50006C; font-family: 'Merriweather', sans-serif; font-weight: bold; font-size: 20px; text-align: center; padding: 10px 0;\">\n",
    "  Introduction\n",
    "</h2>\n"
   ]
  },
  {
   "cell_type": "markdown",
   "id": "4aa86b62",
   "metadata": {},
   "source": [
    "<footer style=\"background-color: #6f00ff; color: white ; font-family: 'Merriweather'; font-weight: bold; text-align: center; padding: 20px 0; font-size: 16px;\">\n",
    "    <p style=\"text-align: center;\"> <i>Datavestigating to connect the facts<i> </p>\n",
    "    <p style=\"font-size: 14px; text-align: center;\">&copy; The Datavestigator</p>\n",
    "\n",
    "    \n",
    "</footer>\n"
   ]
  },
  {
   "cell_type": "markdown",
   "id": "2391d3c0",
   "metadata": {},
   "source": [
    "\n",
    "<footer style=\"background-color: #3D0069; color: white ; font-family: 'Merriweather'; font-weight: bold; text-align: center; padding: 20px 0; font-size: 16px;\">\n",
    "    <p style=\"text-align: center;\"> <i>Datavestigating to connect the facts</i> </p>\n",
    "    <p style=\"font-size: 14px; text-align: center;\">&copy; The Datavestigator</p>   \n",
    "</footer>"
   ]
  },
  {
   "cell_type": "code",
   "execution_count": null,
   "id": "410cbe47",
   "metadata": {},
   "outputs": [],
   "source": []
  }
 ],
 "metadata": {
  "kernelspec": {
   "display_name": "Python 3 (ipykernel)",
   "language": "python",
   "name": "python3"
  },
  "language_info": {
   "codemirror_mode": {
    "name": "ipython",
    "version": 3
   },
   "file_extension": ".py",
   "mimetype": "text/x-python",
   "name": "python",
   "nbconvert_exporter": "python",
   "pygments_lexer": "ipython3",
   "version": "3.9.7"
  }
 },
 "nbformat": 4,
 "nbformat_minor": 5
}
