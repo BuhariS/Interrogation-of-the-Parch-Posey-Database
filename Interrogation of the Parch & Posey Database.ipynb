{
 "cells": [
  {
   "cell_type": "markdown",
   "id": "baeef856",
   "metadata": {},
   "source": [
    "<!DOCTYPE html>\n",
    "<head>\n",
    "    <meta charset=\"utf-8\">\n",
    "    <link rel=\"stylesheet\" href=\"styles.css\">\n",
    "    <link href='https://fonts.googleapis.com/css?family=Merriweather' rel='stylesheet'>\n",
    "    <div style=\"background-color: #3D0069; color: white ; font-family: 'Merriweather'; font-weight: bold; text-align: center; padding: 40px 0; font-size: 16px;\">\n",
    "    <h1>Interrogation of the Parch & Posey Database</h1>\n",
    "        by\n",
    "    \n",
    "    Buhari Shehu (The Datavestigator)\n",
    "    \n",
    "\n",
    "</head>\n"
   ]
  },
  {
   "cell_type": "markdown",
   "id": "da6ea165",
   "metadata": {},
   "source": [
    "<link href='https://fonts.googleapis.com/css?family=Merriweather' rel='stylesheet'>\n",
    "<h2 style=\"background-color: #F5E8DA; color: #50006C; font-family: 'Merriweather'; font-weight: bold; font-size: 20px; text-align: center; padding: 10px 0;\">\n",
    "  Introduction\n",
    "</h2>\n"
   ]
  },
  {
   "cell_type": "markdown",
   "id": "ebc6e458",
   "metadata": {},
   "source": [
    "<img src=\"erd.png\" width=800 height=400 />"
   ]
  },
  {
   "cell_type": "code",
   "execution_count": 1,
   "id": "5b47ac19",
   "metadata": {},
   "outputs": [],
   "source": [
    "%load_ext sql"
   ]
  },
  {
   "cell_type": "code",
   "execution_count": 4,
   "id": "1b9f82c4",
   "metadata": {},
   "outputs": [],
   "source": [
    "# Load SQLite database\n",
    "%sql sqlite:///pandp.db"
   ]
  },
  {
   "cell_type": "markdown",
   "id": "cb3430cd",
   "metadata": {},
   "source": [
    "<div style=\"border: 5px solid #6f00ff;\n",
    "    border-radius: 20px; text-align: center; font-size: 20px; font-family: 'Merriweather'; padding: 16px 0; background-color: #F5E8DA\">\n",
    "  <b>Which tables are in the database?</b>\n",
    "</div>"
   ]
  },
  {
   "cell_type": "code",
   "execution_count": 8,
   "id": "728d8713",
   "metadata": {},
   "outputs": [
    {
     "name": "stdout",
     "output_type": "stream",
     "text": [
      " * sqlite:///pandp.db\n",
      "Done.\n"
     ]
    },
    {
     "data": {
      "text/html": [
       "<table>\n",
       "    <tr>\n",
       "        <th>name</th>\n",
       "    </tr>\n",
       "    <tr>\n",
       "        <td>accounts</td>\n",
       "    </tr>\n",
       "    <tr>\n",
       "        <td>orders</td>\n",
       "    </tr>\n",
       "    <tr>\n",
       "        <td>region</td>\n",
       "    </tr>\n",
       "    <tr>\n",
       "        <td>sales_reps</td>\n",
       "    </tr>\n",
       "    <tr>\n",
       "        <td>web_events</td>\n",
       "    </tr>\n",
       "</table>"
      ],
      "text/plain": [
       "[('accounts',), ('orders',), ('region',), ('sales_reps',), ('web_events',)]"
      ]
     },
     "execution_count": 8,
     "metadata": {},
     "output_type": "execute_result"
    }
   ],
   "source": [
    "%%sql\n",
    "SELECT name\n",
    "FROM sqlite_master \n",
    "WHERE type IN ('table','view') AND name NOT LIKE 'sqlite_%' \n",
    "ORDER BY 1;"
   ]
  },
  {
   "cell_type": "code",
   "execution_count": 16,
   "id": "f7ea0a09",
   "metadata": {},
   "outputs": [
    {
     "name": "stdout",
     "output_type": "stream",
     "text": [
      " * sqlite:///pandp.db\n",
      "Done.\n"
     ]
    },
    {
     "data": {
      "text/html": [
       "<table>\n",
       "    <tr>\n",
       "        <th>id</th>\n",
       "        <th>account_id</th>\n",
       "        <th>occurred_at</th>\n",
       "        <th>standard_qty</th>\n",
       "        <th>gloss_qty</th>\n",
       "        <th>poster_qty</th>\n",
       "        <th>total</th>\n",
       "        <th>standard_amt_usd</th>\n",
       "        <th>gloss_amt_usd</th>\n",
       "        <th>poster_amt_usd</th>\n",
       "        <th>total_amt_usd</th>\n",
       "    </tr>\n",
       "    <tr>\n",
       "        <td>1</td>\n",
       "        <td>1001</td>\n",
       "        <td>2015-10-06 17:31:14</td>\n",
       "        <td>123</td>\n",
       "        <td>22</td>\n",
       "        <td>24</td>\n",
       "        <td>169</td>\n",
       "        <td>613.77</td>\n",
       "        <td>164.78</td>\n",
       "        <td>194.88</td>\n",
       "        <td>973.43</td>\n",
       "    </tr>\n",
       "    <tr>\n",
       "        <td>2</td>\n",
       "        <td>1001</td>\n",
       "        <td>2015-11-05 03:34:33</td>\n",
       "        <td>190</td>\n",
       "        <td>41</td>\n",
       "        <td>57</td>\n",
       "        <td>288</td>\n",
       "        <td>948.1</td>\n",
       "        <td>307.09</td>\n",
       "        <td>462.84</td>\n",
       "        <td>1718.03</td>\n",
       "    </tr>\n",
       "    <tr>\n",
       "        <td>3</td>\n",
       "        <td>1001</td>\n",
       "        <td>2015-12-04 04:21:55</td>\n",
       "        <td>85</td>\n",
       "        <td>47</td>\n",
       "        <td>0</td>\n",
       "        <td>132</td>\n",
       "        <td>424.15</td>\n",
       "        <td>352.03</td>\n",
       "        <td>0</td>\n",
       "        <td>776.18</td>\n",
       "    </tr>\n",
       "    <tr>\n",
       "        <td>4</td>\n",
       "        <td>1001</td>\n",
       "        <td>2016-01-02 01:18:24</td>\n",
       "        <td>144</td>\n",
       "        <td>32</td>\n",
       "        <td>0</td>\n",
       "        <td>176</td>\n",
       "        <td>718.56</td>\n",
       "        <td>239.68</td>\n",
       "        <td>0</td>\n",
       "        <td>958.24</td>\n",
       "    </tr>\n",
       "    <tr>\n",
       "        <td>5</td>\n",
       "        <td>1001</td>\n",
       "        <td>2016-02-01 19:27:27</td>\n",
       "        <td>108</td>\n",
       "        <td>29</td>\n",
       "        <td>28</td>\n",
       "        <td>165</td>\n",
       "        <td>538.92</td>\n",
       "        <td>217.21</td>\n",
       "        <td>227.36</td>\n",
       "        <td>983.49</td>\n",
       "    </tr>\n",
       "</table>"
      ],
      "text/plain": [
       "[(1, 1001, '2015-10-06 17:31:14', 123, 22, 24, 169, 613.77, 164.78, 194.88, 973.43),\n",
       " (2, 1001, '2015-11-05 03:34:33', 190, 41, 57, 288, 948.1, 307.09, 462.84, 1718.03),\n",
       " (3, 1001, '2015-12-04 04:21:55', 85, 47, 0, 132, 424.15, 352.03, 0, 776.18),\n",
       " (4, 1001, '2016-01-02 01:18:24', 144, 32, 0, 176, 718.56, 239.68, 0, 958.24),\n",
       " (5, 1001, '2016-02-01 19:27:27', 108, 29, 28, 165, 538.92, 217.21, 227.36, 983.49)]"
      ]
     },
     "execution_count": 16,
     "metadata": {},
     "output_type": "execute_result"
    }
   ],
   "source": [
    "%%sql\n",
    "SELECT * \n",
    "FROM orders\n",
    "LIMIT 5;"
   ]
  },
  {
   "cell_type": "markdown",
   "id": "64c1b762",
   "metadata": {},
   "source": [
    "<div style=\"border: 5px solid #6f00ff;\n",
    "    border-radius: 20px; text-align: center; font-size: 20px; font-family: 'Merriweather'; padding: 16px 0; background-color: #F5E8DA\">\n",
    "  <b>What are the five latest orders?<b>\n",
    "</div>"
   ]
  },
  {
   "cell_type": "code",
   "execution_count": 15,
   "id": "2a13b075",
   "metadata": {},
   "outputs": [
    {
     "name": "stdout",
     "output_type": "stream",
     "text": [
      " * sqlite:///pandp.db\n",
      "Done.\n"
     ]
    },
    {
     "data": {
      "text/html": [
       "<table>\n",
       "    <tr>\n",
       "        <th>id</th>\n",
       "        <th>account_id</th>\n",
       "        <th>occurred_at</th>\n",
       "        <th>standard_qty</th>\n",
       "        <th>gloss_qty</th>\n",
       "        <th>poster_qty</th>\n",
       "        <th>total</th>\n",
       "        <th>standard_amt_usd</th>\n",
       "        <th>gloss_amt_usd</th>\n",
       "        <th>poster_amt_usd</th>\n",
       "        <th>total_amt_usd</th>\n",
       "    </tr>\n",
       "    <tr>\n",
       "        <td>6451</td>\n",
       "        <td>3841</td>\n",
       "        <td>2017-01-02 00:02:40</td>\n",
       "        <td>42</td>\n",
       "        <td>506</td>\n",
       "        <td>302</td>\n",
       "        <td>850</td>\n",
       "        <td>209.58</td>\n",
       "        <td>3789.94</td>\n",
       "        <td>2452.24</td>\n",
       "        <td>6451.76</td>\n",
       "    </tr>\n",
       "    <tr>\n",
       "        <td>3546</td>\n",
       "        <td>3841</td>\n",
       "        <td>2017-01-01 23:50:16</td>\n",
       "        <td>291</td>\n",
       "        <td>36</td>\n",
       "        <td>26</td>\n",
       "        <td>353</td>\n",
       "        <td>1452.09</td>\n",
       "        <td>269.64</td>\n",
       "        <td>211.12</td>\n",
       "        <td>1932.85</td>\n",
       "    </tr>\n",
       "    <tr>\n",
       "        <td>6454</td>\n",
       "        <td>3861</td>\n",
       "        <td>2017-01-01 22:29:50</td>\n",
       "        <td>38</td>\n",
       "        <td>167</td>\n",
       "        <td>51</td>\n",
       "        <td>256</td>\n",
       "        <td>189.62</td>\n",
       "        <td>1250.83</td>\n",
       "        <td>414.12</td>\n",
       "        <td>1854.57</td>\n",
       "    </tr>\n",
       "    <tr>\n",
       "        <td>3554</td>\n",
       "        <td>3861</td>\n",
       "        <td>2017-01-01 22:17:26</td>\n",
       "        <td>497</td>\n",
       "        <td>0</td>\n",
       "        <td>23</td>\n",
       "        <td>520</td>\n",
       "        <td>2480.03</td>\n",
       "        <td>0</td>\n",
       "        <td>186.76</td>\n",
       "        <td>2666.79</td>\n",
       "    </tr>\n",
       "    <tr>\n",
       "        <td>6556</td>\n",
       "        <td>4051</td>\n",
       "        <td>2017-01-01 21:04:25</td>\n",
       "        <td>0</td>\n",
       "        <td>65</td>\n",
       "        <td>50</td>\n",
       "        <td>115</td>\n",
       "        <td>0</td>\n",
       "        <td>486.85</td>\n",
       "        <td>406</td>\n",
       "        <td>892.85</td>\n",
       "    </tr>\n",
       "</table>"
      ],
      "text/plain": [
       "[(6451, 3841, '2017-01-02 00:02:40', 42, 506, 302, 850, 209.58, 3789.94, 2452.24, 6451.76),\n",
       " (3546, 3841, '2017-01-01 23:50:16', 291, 36, 26, 353, 1452.09, 269.64, 211.12, 1932.85),\n",
       " (6454, 3861, '2017-01-01 22:29:50', 38, 167, 51, 256, 189.62, 1250.83, 414.12, 1854.57),\n",
       " (3554, 3861, '2017-01-01 22:17:26', 497, 0, 23, 520, 2480.03, 0, 186.76, 2666.79),\n",
       " (6556, 4051, '2017-01-01 21:04:25', 0, 65, 50, 115, 0, 486.85, 406, 892.85)]"
      ]
     },
     "execution_count": 15,
     "metadata": {},
     "output_type": "execute_result"
    }
   ],
   "source": [
    "%%sql\n",
    "SELECT *\n",
    "FROM orders\n",
    "ORDER BY occurred_at DESC\n",
    "LIMIT 5;"
   ]
  },
  {
   "cell_type": "markdown",
   "id": "8a3cb675",
   "metadata": {},
   "source": [
    "<div style=\"border: 5px solid #6f00ff;\n",
    "    border-radius: 20px; text-align: center; font-size: 20px; font-family: 'Merriweather'; padding: 16px 0; background-color: #F5E8DA\">\n",
    "  <b>In which accounts did the top five purchases of all time occur?<b>\n",
    "</div>"
   ]
  },
  {
   "cell_type": "code",
   "execution_count": 18,
   "id": "05f03922",
   "metadata": {},
   "outputs": [
    {
     "name": "stdout",
     "output_type": "stream",
     "text": [
      " * sqlite:///pandp.db\n",
      "Done.\n"
     ]
    },
    {
     "data": {
      "text/html": [
       "<table>\n",
       "    <tr>\n",
       "        <th>account_id</th>\n",
       "        <th>total_amt_usd</th>\n",
       "    </tr>\n",
       "    <tr>\n",
       "        <td>4251</td>\n",
       "        <td>232207.07</td>\n",
       "    </tr>\n",
       "    <tr>\n",
       "        <td>4161</td>\n",
       "        <td>112875.18</td>\n",
       "    </tr>\n",
       "    <tr>\n",
       "        <td>4211</td>\n",
       "        <td>107533.55</td>\n",
       "    </tr>\n",
       "    <tr>\n",
       "        <td>2861</td>\n",
       "        <td>95005.82</td>\n",
       "    </tr>\n",
       "    <tr>\n",
       "        <td>4101</td>\n",
       "        <td>93547.84</td>\n",
       "    </tr>\n",
       "</table>"
      ],
      "text/plain": [
       "[(4251, 232207.07),\n",
       " (4161, 112875.18),\n",
       " (4211, 107533.55),\n",
       " (2861, 95005.82),\n",
       " (4101, 93547.84)]"
      ]
     },
     "execution_count": 18,
     "metadata": {},
     "output_type": "execute_result"
    }
   ],
   "source": [
    "%%sql\n",
    "SELECT account_id, total_amt_usd\n",
    "FROM orders\n",
    "ORDER BY total_amt_usd DESC\n",
    "LIMIT 5;"
   ]
  },
  {
   "cell_type": "markdown",
   "id": "c0459bd0",
   "metadata": {},
   "source": [
    "<div style=\"border: 5px solid #6f00ff;\n",
    "    border-radius: 20px; text-align: center; font-size: 20px; font-family: 'Merriweather'; padding: 16px 0; background-color: #F5E8DA\">\n",
    "  <b>In which accounts did the lowest five purchases of all time occur?<b>\n",
    "</div>"
   ]
  },
  {
   "cell_type": "code",
   "execution_count": 19,
   "id": "a4862c47",
   "metadata": {},
   "outputs": [
    {
     "name": "stdout",
     "output_type": "stream",
     "text": [
      " * sqlite:///pandp.db\n",
      "Done.\n"
     ]
    },
    {
     "data": {
      "text/html": [
       "<table>\n",
       "    <tr>\n",
       "        <th>account_id</th>\n",
       "        <th>total_amt_usd</th>\n",
       "    </tr>\n",
       "    <tr>\n",
       "        <td>1131</td>\n",
       "        <td>0</td>\n",
       "    </tr>\n",
       "    <tr>\n",
       "        <td>1951</td>\n",
       "        <td>0</td>\n",
       "    </tr>\n",
       "    <tr>\n",
       "        <td>2881</td>\n",
       "        <td>0</td>\n",
       "    </tr>\n",
       "    <tr>\n",
       "        <td>1221</td>\n",
       "        <td>0</td>\n",
       "    </tr>\n",
       "    <tr>\n",
       "        <td>1231</td>\n",
       "        <td>0</td>\n",
       "    </tr>\n",
       "</table>"
      ],
      "text/plain": [
       "[(1131, 0), (1951, 0), (2881, 0), (1221, 0), (1231, 0)]"
      ]
     },
     "execution_count": 19,
     "metadata": {},
     "output_type": "execute_result"
    }
   ],
   "source": [
    "%%sql\n",
    "SELECT account_id, total_amt_usd\n",
    "FROM orders\n",
    "ORDER BY total_amt_usd\n",
    "LIMIT 5;"
   ]
  },
  {
   "cell_type": "markdown",
   "id": "8d3846e2",
   "metadata": {},
   "source": [
    "<div style=\"border: 5px solid #6f00ff;\n",
    "    border-radius: 20px; text-align: center; font-size: 20px; font-family: 'Merriweather'; padding: 16px 0; background-color: #F5E8DA\">\n",
    "  <b>Which records have total purchase greater than $100,000 ?<b>\n",
    "</div>"
   ]
  },
  {
   "cell_type": "code",
   "execution_count": 25,
   "id": "a8f6fd30",
   "metadata": {},
   "outputs": [
    {
     "name": "stdout",
     "output_type": "stream",
     "text": [
      " * sqlite:///pandp.db\n",
      "Done.\n"
     ]
    },
    {
     "data": {
      "text/html": [
       "<table>\n",
       "    <tr>\n",
       "        <th>id</th>\n",
       "        <th>account_id</th>\n",
       "        <th>occurred_at</th>\n",
       "        <th>standard_qty</th>\n",
       "        <th>gloss_qty</th>\n",
       "        <th>poster_qty</th>\n",
       "        <th>total</th>\n",
       "        <th>standard_amt_usd</th>\n",
       "        <th>gloss_amt_usd</th>\n",
       "        <th>poster_amt_usd</th>\n",
       "        <th>total_amt_usd</th>\n",
       "    </tr>\n",
       "    <tr>\n",
       "        <td>3892</td>\n",
       "        <td>4161</td>\n",
       "        <td>2016-06-24 13:32:55</td>\n",
       "        <td>22591</td>\n",
       "        <td>13</td>\n",
       "        <td>6</td>\n",
       "        <td>22610</td>\n",
       "        <td>112729.09</td>\n",
       "        <td>97.37</td>\n",
       "        <td>48.72</td>\n",
       "        <td>112875.18</td>\n",
       "    </tr>\n",
       "    <tr>\n",
       "        <td>3963</td>\n",
       "        <td>4211</td>\n",
       "        <td>2015-03-30 00:05:30</td>\n",
       "        <td>114</td>\n",
       "        <td>14281</td>\n",
       "        <td>0</td>\n",
       "        <td>14395</td>\n",
       "        <td>568.86</td>\n",
       "        <td>106964.69</td>\n",
       "        <td>0</td>\n",
       "        <td>107533.55</td>\n",
       "    </tr>\n",
       "    <tr>\n",
       "        <td>4016</td>\n",
       "        <td>4251</td>\n",
       "        <td>2016-12-26 08:53:24</td>\n",
       "        <td>521</td>\n",
       "        <td>16</td>\n",
       "        <td>28262</td>\n",
       "        <td>28799</td>\n",
       "        <td>2599.79</td>\n",
       "        <td>119.84</td>\n",
       "        <td>229487.44</td>\n",
       "        <td>232207.07</td>\n",
       "    </tr>\n",
       "</table>"
      ],
      "text/plain": [
       "[(3892, 4161, '2016-06-24 13:32:55', 22591, 13, 6, 22610, 112729.09, 97.37, 48.72, 112875.18),\n",
       " (3963, 4211, '2015-03-30 00:05:30', 114, 14281, 0, 14395, 568.86, 106964.69, 0, 107533.55),\n",
       " (4016, 4251, '2016-12-26 08:53:24', 521, 16, 28262, 28799, 2599.79, 119.84, 229487.44, 232207.07)]"
      ]
     },
     "execution_count": 25,
     "metadata": {},
     "output_type": "execute_result"
    }
   ],
   "source": [
    "%%sql\n",
    "SELECT *\n",
    "FROM orders\n",
    "WHERE total_amt_usd > 100000;"
   ]
  },
  {
   "cell_type": "markdown",
   "id": "cae257f1",
   "metadata": {},
   "source": [
    "<div style=\"border: 5px solid #6f00ff;\n",
    "    border-radius: 20px; text-align: center; font-size: 20px; font-family: 'Merriweather'; padding: 16px 0; background-color: #F5E8DA\">\n",
    "  <b>What are the names, websites and primary points of contact of the top three accounts above?<b>\n",
    "</div>"
   ]
  },
  {
   "cell_type": "code",
   "execution_count": 31,
   "id": "c4b0d500",
   "metadata": {},
   "outputs": [
    {
     "name": "stdout",
     "output_type": "stream",
     "text": [
      " * sqlite:///pandp.db\n",
      "Done.\n"
     ]
    },
    {
     "data": {
      "text/html": [
       "<table>\n",
       "    <tr>\n",
       "        <th>name</th>\n",
       "        <th>website</th>\n",
       "        <th>primary_poc</th>\n",
       "    </tr>\n",
       "    <tr>\n",
       "        <td>Core-Mark Holding</td>\n",
       "        <td>www.core-mark.com</td>\n",
       "        <td>Marita Demasi</td>\n",
       "    </tr>\n",
       "    <tr>\n",
       "        <td>EOG Resources</td>\n",
       "        <td>www.eogresources.com</td>\n",
       "        <td>Alida Desrosier</td>\n",
       "    </tr>\n",
       "    <tr>\n",
       "        <td>Pacific Life</td>\n",
       "        <td>www.pacificlife.com</td>\n",
       "        <td>Kyoko Randall</td>\n",
       "    </tr>\n",
       "</table>"
      ],
      "text/plain": [
       "[('Core-Mark Holding', 'www.core-mark.com', 'Marita Demasi'),\n",
       " ('EOG Resources', 'www.eogresources.com', 'Alida Desrosier'),\n",
       " ('Pacific Life', 'www.pacificlife.com', 'Kyoko Randall')]"
      ]
     },
     "execution_count": 31,
     "metadata": {},
     "output_type": "execute_result"
    }
   ],
   "source": [
    "%%sql\n",
    "SELECT name, website, primary_poc\n",
    "FROM accounts\n",
    "WHERE id in (4161, 4211, 4251);"
   ]
  },
  {
   "cell_type": "markdown",
   "id": "5b26b37a",
   "metadata": {},
   "source": [
    "<div style=\"border: 5px solid #6f00ff;\n",
    "    border-radius: 20px; text-align: center; font-size: 20px; font-family: 'Merriweather'; padding: 16px 0; background-color: #F5E8DA\">\n",
    "  <b>What is the unit price of a standard paper?</b>\n",
    "</div>"
   ]
  },
  {
   "cell_type": "code",
   "execution_count": 36,
   "id": "e59bae69",
   "metadata": {},
   "outputs": [
    {
     "name": "stdout",
     "output_type": "stream",
     "text": [
      " * sqlite:///pandp.db\n",
      "Done.\n"
     ]
    },
    {
     "data": {
      "text/html": [
       "<table>\n",
       "    <tr>\n",
       "        <th>standard_paper_unit_price_usd</th>\n",
       "    </tr>\n",
       "    <tr>\n",
       "        <td>4.99</td>\n",
       "    </tr>\n",
       "</table>"
      ],
      "text/plain": [
       "[(4.99,)]"
      ]
     },
     "execution_count": 36,
     "metadata": {},
     "output_type": "execute_result"
    }
   ],
   "source": [
    "%%sql\n",
    "SELECT standard_amt_usd/standard_qty standard_paper_unit_price_usd\n",
    "FROM orders\n",
    "LIMIT 1;"
   ]
  },
  {
   "cell_type": "markdown",
   "id": "bcc42881",
   "metadata": {},
   "source": [
    "<div style=\"border: 5px solid #6f00ff;\n",
    "    border-radius: 20px; text-align: center; font-size: 20px; font-family: 'Merriweather'; padding: 16px 0; background-color: #F5E8DA\">\n",
    "  <b>Which orders contain only standard paper with a quantity greater than 1000?<b>\n",
    "</div>"
   ]
  },
  {
   "cell_type": "code",
   "execution_count": 37,
   "id": "5b1e45c0",
   "metadata": {},
   "outputs": [
    {
     "name": "stdout",
     "output_type": "stream",
     "text": [
      " * sqlite:///pandp.db\n",
      "Done.\n"
     ]
    },
    {
     "data": {
      "text/html": [
       "<table>\n",
       "    <tr>\n",
       "        <th>id</th>\n",
       "        <th>account_id</th>\n",
       "        <th>occurred_at</th>\n",
       "        <th>standard_qty</th>\n",
       "        <th>gloss_qty</th>\n",
       "        <th>poster_qty</th>\n",
       "        <th>total</th>\n",
       "        <th>standard_amt_usd</th>\n",
       "        <th>gloss_amt_usd</th>\n",
       "        <th>poster_amt_usd</th>\n",
       "        <th>total_amt_usd</th>\n",
       "    </tr>\n",
       "    <tr>\n",
       "        <td>2613</td>\n",
       "        <td>2951</td>\n",
       "        <td>2016-08-15 00:06:12</td>\n",
       "        <td>1171</td>\n",
       "        <td>0</td>\n",
       "        <td>0</td>\n",
       "        <td>1171</td>\n",
       "        <td>5843.29</td>\n",
       "        <td>0</td>\n",
       "        <td>0</td>\n",
       "        <td>5843.29</td>\n",
       "    </tr>\n",
       "    <tr>\n",
       "        <td>3260</td>\n",
       "        <td>3491</td>\n",
       "        <td>2014-08-29 22:43:00</td>\n",
       "        <td>1552</td>\n",
       "        <td>0</td>\n",
       "        <td>0</td>\n",
       "        <td>1552</td>\n",
       "        <td>7744.48</td>\n",
       "        <td>0</td>\n",
       "        <td>0</td>\n",
       "        <td>7744.48</td>\n",
       "    </tr>\n",
       "</table>"
      ],
      "text/plain": [
       "[(2613, 2951, '2016-08-15 00:06:12', 1171, 0, 0, 1171, 5843.29, 0, 0, 5843.29),\n",
       " (3260, 3491, '2014-08-29 22:43:00', 1552, 0, 0, 1552, 7744.48, 0, 0, 7744.48)]"
      ]
     },
     "execution_count": 37,
     "metadata": {},
     "output_type": "execute_result"
    }
   ],
   "source": [
    "%%sql\n",
    "SELECT *\n",
    "FROM orders\n",
    "WHERE standard_qty > 1000 AND poster_qty = 0 AND gloss_qty = 0;"
   ]
  },
  {
   "cell_type": "markdown",
   "id": "297f2a3f",
   "metadata": {},
   "source": [
    "<div style=\"border: 5px solid #6f00ff;\n",
    "    border-radius: 20px; text-align: center; font-size: 20px; font-family: 'Merriweather'; padding: 16px 0; background-color: #F5E8DA\">\n",
    "  <b>Which orders were placed between 2014-12-29 and 2014-12-30?</b>\n",
    "</div>"
   ]
  },
  {
   "cell_type": "code",
   "execution_count": 44,
   "id": "adef50eb",
   "metadata": {},
   "outputs": [
    {
     "name": "stdout",
     "output_type": "stream",
     "text": [
      " * sqlite:///pandp.db\n",
      "Done.\n"
     ]
    },
    {
     "data": {
      "text/html": [
       "<table>\n",
       "    <tr>\n",
       "        <th>id</th>\n",
       "        <th>account_id</th>\n",
       "        <th>occurred_at</th>\n",
       "        <th>standard_qty</th>\n",
       "        <th>gloss_qty</th>\n",
       "        <th>poster_qty</th>\n",
       "        <th>total</th>\n",
       "        <th>standard_amt_usd</th>\n",
       "        <th>gloss_amt_usd</th>\n",
       "        <th>poster_amt_usd</th>\n",
       "        <th>total_amt_usd</th>\n",
       "    </tr>\n",
       "    <tr>\n",
       "        <td>256</td>\n",
       "        <td>1251</td>\n",
       "        <td>2014-12-30 02:30:01</td>\n",
       "        <td>336</td>\n",
       "        <td>52</td>\n",
       "        <td>12</td>\n",
       "        <td>400</td>\n",
       "        <td>1676.64</td>\n",
       "        <td>389.48</td>\n",
       "        <td>97.44</td>\n",
       "        <td>2163.56</td>\n",
       "    </tr>\n",
       "    <tr>\n",
       "        <td>604</td>\n",
       "        <td>1451</td>\n",
       "        <td>2014-12-29 07:50:25</td>\n",
       "        <td>412</td>\n",
       "        <td>0</td>\n",
       "        <td>0</td>\n",
       "        <td>412</td>\n",
       "        <td>2055.88</td>\n",
       "        <td>0</td>\n",
       "        <td>0</td>\n",
       "        <td>2055.88</td>\n",
       "    </tr>\n",
       "    <tr>\n",
       "        <td>3084</td>\n",
       "        <td>3411</td>\n",
       "        <td>2014-12-29 06:34:35</td>\n",
       "        <td>286</td>\n",
       "        <td>12</td>\n",
       "        <td>22</td>\n",
       "        <td>320</td>\n",
       "        <td>1427.14</td>\n",
       "        <td>89.88</td>\n",
       "        <td>178.64</td>\n",
       "        <td>1695.66</td>\n",
       "    </tr>\n",
       "    <tr>\n",
       "        <td>3960</td>\n",
       "        <td>4211</td>\n",
       "        <td>2014-12-29 22:37:31</td>\n",
       "        <td>96</td>\n",
       "        <td>19</td>\n",
       "        <td>16</td>\n",
       "        <td>131</td>\n",
       "        <td>479.04</td>\n",
       "        <td>142.31</td>\n",
       "        <td>129.92</td>\n",
       "        <td>751.27</td>\n",
       "    </tr>\n",
       "    <tr>\n",
       "        <td>4163</td>\n",
       "        <td>4341</td>\n",
       "        <td>2014-12-29 04:40:43</td>\n",
       "        <td>584</td>\n",
       "        <td>36</td>\n",
       "        <td>12</td>\n",
       "        <td>632</td>\n",
       "        <td>2914.16</td>\n",
       "        <td>269.64</td>\n",
       "        <td>97.44</td>\n",
       "        <td>3281.24</td>\n",
       "    </tr>\n",
       "    <tr>\n",
       "        <td>4465</td>\n",
       "        <td>1251</td>\n",
       "        <td>2014-12-30 02:10:42</td>\n",
       "        <td>510</td>\n",
       "        <td>574</td>\n",
       "        <td>202</td>\n",
       "        <td>1286</td>\n",
       "        <td>2544.9</td>\n",
       "        <td>4299.26</td>\n",
       "        <td>1640.24</td>\n",
       "        <td>8484.4</td>\n",
       "    </tr>\n",
       "    <tr>\n",
       "        <td>4697</td>\n",
       "        <td>1451</td>\n",
       "        <td>2014-12-29 07:40:17</td>\n",
       "        <td>54</td>\n",
       "        <td>542</td>\n",
       "        <td>271</td>\n",
       "        <td>867</td>\n",
       "        <td>269.46</td>\n",
       "        <td>4059.58</td>\n",
       "        <td>2200.52</td>\n",
       "        <td>6529.56</td>\n",
       "    </tr>\n",
       "    <tr>\n",
       "        <td>6168</td>\n",
       "        <td>3411</td>\n",
       "        <td>2014-12-29 06:27:25</td>\n",
       "        <td>43</td>\n",
       "        <td>615</td>\n",
       "        <td>301</td>\n",
       "        <td>959</td>\n",
       "        <td>214.57</td>\n",
       "        <td>4606.35</td>\n",
       "        <td>2444.12</td>\n",
       "        <td>7265.04</td>\n",
       "    </tr>\n",
       "    <tr>\n",
       "        <td>6688</td>\n",
       "        <td>4211</td>\n",
       "        <td>2014-12-29 22:41:19</td>\n",
       "        <td>513</td>\n",
       "        <td>568</td>\n",
       "        <td>190</td>\n",
       "        <td>1271</td>\n",
       "        <td>2559.87</td>\n",
       "        <td>4254.32</td>\n",
       "        <td>1542.8</td>\n",
       "        <td>8356.99</td>\n",
       "    </tr>\n",
       "</table>"
      ],
      "text/plain": [
       "[(256, 1251, '2014-12-30 02:30:01', 336, 52, 12, 400, 1676.64, 389.48, 97.44, 2163.56),\n",
       " (604, 1451, '2014-12-29 07:50:25', 412, 0, 0, 412, 2055.88, 0, 0, 2055.88),\n",
       " (3084, 3411, '2014-12-29 06:34:35', 286, 12, 22, 320, 1427.14, 89.88, 178.64, 1695.66),\n",
       " (3960, 4211, '2014-12-29 22:37:31', 96, 19, 16, 131, 479.04, 142.31, 129.92, 751.27),\n",
       " (4163, 4341, '2014-12-29 04:40:43', 584, 36, 12, 632, 2914.16, 269.64, 97.44, 3281.24),\n",
       " (4465, 1251, '2014-12-30 02:10:42', 510, 574, 202, 1286, 2544.9, 4299.26, 1640.24, 8484.4),\n",
       " (4697, 1451, '2014-12-29 07:40:17', 54, 542, 271, 867, 269.46, 4059.58, 2200.52, 6529.56),\n",
       " (6168, 3411, '2014-12-29 06:27:25', 43, 615, 301, 959, 214.57, 4606.35, 2444.12, 7265.04),\n",
       " (6688, 4211, '2014-12-29 22:41:19', 513, 568, 190, 1271, 2559.87, 4254.32, 1542.8, 8356.99)]"
      ]
     },
     "execution_count": 44,
     "metadata": {},
     "output_type": "execute_result"
    }
   ],
   "source": [
    "%%sql\n",
    "SELECT *\n",
    "FROM orders\n",
    "WHERE occurred_at BETWEEN '2014-12-29' AND '2014-12-31'\n"
   ]
  },
  {
   "cell_type": "code",
   "execution_count": null,
   "id": "0dba42da",
   "metadata": {},
   "outputs": [],
   "source": [
    "%%sql\n",
    "SELECT *\n",
    "FROM \n",
    "ORDER BY \n",
    "LIMIT 5"
   ]
  },
  {
   "cell_type": "code",
   "execution_count": null,
   "id": "b50b325b",
   "metadata": {},
   "outputs": [],
   "source": [
    "%%sql\n",
    "SELECT *\n",
    "FROM \n",
    "ORDER BY \n",
    "LIMIT 5"
   ]
  },
  {
   "cell_type": "code",
   "execution_count": null,
   "id": "d8f15360",
   "metadata": {},
   "outputs": [],
   "source": [
    "%%sql\n",
    "SELECT *\n",
    "FROM \n",
    "ORDER BY \n",
    "LIMIT 5"
   ]
  },
  {
   "cell_type": "code",
   "execution_count": null,
   "id": "7c5fcda7",
   "metadata": {},
   "outputs": [],
   "source": [
    "%%sql\n",
    "SELECT *\n",
    "FROM \n",
    "ORDER BY \n",
    "LIMIT 5"
   ]
  },
  {
   "cell_type": "code",
   "execution_count": null,
   "id": "bef7f408",
   "metadata": {},
   "outputs": [],
   "source": [
    "%%sql\n",
    "SELECT *\n",
    "FROM \n",
    "ORDER BY \n",
    "LIMIT 5"
   ]
  },
  {
   "cell_type": "code",
   "execution_count": null,
   "id": "4931b94a",
   "metadata": {},
   "outputs": [],
   "source": [
    "Which channels \n",
    "SELECT *\n",
    "FROM web_events\n",
    "WHERE channel IN ('organic', 'adwords') AND occurred_at BETWEEN '2016-01-01' AND '2017-01-01'\n",
    "ORDER BY occurred_at DESC;"
   ]
  },
  {
   "cell_type": "markdown",
   "id": "ed4deee3",
   "metadata": {},
   "source": [
    "<div style=\"border: 5px solid #6f00ff;\n",
    "    border-radius: 20px; text-align: center; font-size: 20px; font-family: 'Merriweather'; padding: 16px 0; background-color: #F5E8DA\">\n",
    "  <b>What are the 10 latest orders?<b>\n",
    "</div>"
   ]
  },
  {
   "cell_type": "markdown",
   "id": "6453440f",
   "metadata": {},
   "source": [
    "<div style=\"border: 5px solid #6f00ff;\n",
    "    border-radius: 20px; text-align: center; font-size: 20px; font-family: 'Merriweather'; padding: 16px 0; background-color: #F5E8DA\">\n",
    "  <b>What are the 10 latest orders?<b>\n",
    "</div>"
   ]
  },
  {
   "cell_type": "markdown",
   "id": "c7330c01",
   "metadata": {},
   "source": [
    "<div style=\"border: 5px solid #6f00ff;\n",
    "    border-radius: 20px; text-align: center; font-size: 20px; font-family: 'Merriweather'; padding: 16px 0; background-color: #F5E8DA\">\n",
    "  <b>What are the 10 latest orders?<b>\n",
    "</div>"
   ]
  },
  {
   "cell_type": "markdown",
   "id": "81f4d26d",
   "metadata": {},
   "source": [
    "<div style=\"border: 5px solid #6f00ff;\n",
    "    border-radius: 20px; text-align: center; font-size: 20px; font-family: 'Merriweather'; padding: 16px 0; background-color: #F5E8DA\">\n",
    "  <b>What are the 10 latest orders?<b>\n",
    "</div>"
   ]
  },
  {
   "cell_type": "markdown",
   "id": "4853d814",
   "metadata": {},
   "source": [
    "<div style=\"border: 5px solid #6f00ff;\n",
    "    border-radius: 20px; text-align: center; font-size: 20px; font-family: 'Merriweather'; padding: 16px 0; background-color: #F5E8DA\">\n",
    "  <b>What are the 10 latest orders?<b>\n",
    "</div>"
   ]
  },
  {
   "cell_type": "markdown",
   "id": "48709382",
   "metadata": {},
   "source": [
    "<div style=\"border: 5px solid #6f00ff;\n",
    "    border-radius: 20px; text-align: center; font-size: 20px; font-family: 'Merriweather'; padding: 16px 0; background-color: #F5E8DA\">\n",
    "  <b>What are the 10 latest orders?<b>\n",
    "</div>"
   ]
  },
  {
   "cell_type": "markdown",
   "id": "a4ba0921",
   "metadata": {},
   "source": [
    "<div style=\"border: 5px solid #6f00ff;\n",
    "    border-radius: 20px; text-align: center; font-size: 20px; font-family: 'Merriweather'; padding: 16px 0; background-color: #F5E8DA\">\n",
    "  <b>What are the 10 latest orders?<b>\n",
    "</div>"
   ]
  },
  {
   "cell_type": "code",
   "execution_count": null,
   "id": "fbcc26c7",
   "metadata": {},
   "outputs": [],
   "source": []
  },
  {
   "cell_type": "markdown",
   "id": "a346d523",
   "metadata": {},
   "source": [
    "\n",
    "<div style=\"border: 10px solid #6f00ff;\n",
    "    border-radius: 20px; text-align: center; padding: 20px 0; background-color: #F5E8DA\">\n",
    "  This is a curved edge border box with the color #6f00ff.\n",
    "</div>\n"
   ]
  },
  {
   "cell_type": "markdown",
   "id": "047ca752",
   "metadata": {},
   "source": [
    "\n",
    "<footer style=\"background-color: #3D0069; color: white ; font-family: 'Merriweather'; font-weight: bold; text-align: center; padding: 20px 0; font-size: 16px;\">\n",
    "    <p style=\"text-align: center;\"> <i>Datavestigating to connect the facts</i> </p>\n",
    "    <p style=\"font-size: 14px; text-align: center;\">&copy; The Datavestigator</p>   \n",
    "</footer>"
   ]
  },
  {
   "cell_type": "code",
   "execution_count": null,
   "id": "6f3b57ab",
   "metadata": {},
   "outputs": [],
   "source": []
  }
 ],
 "metadata": {
  "kernelspec": {
   "display_name": "Python 3 (ipykernel)",
   "language": "python",
   "name": "python3"
  },
  "language_info": {
   "codemirror_mode": {
    "name": "ipython",
    "version": 3
   },
   "file_extension": ".py",
   "mimetype": "text/x-python",
   "name": "python",
   "nbconvert_exporter": "python",
   "pygments_lexer": "ipython3",
   "version": "3.9.7"
  }
 },
 "nbformat": 4,
 "nbformat_minor": 5
}
