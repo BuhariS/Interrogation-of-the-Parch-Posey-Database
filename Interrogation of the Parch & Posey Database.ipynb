{
 "cells": [
  {
   "cell_type": "markdown",
   "id": "baeef856",
   "metadata": {},
   "source": [
    "<!DOCTYPE html>\n",
    "<head>\n",
    "    <meta charset=\"utf-8\">\n",
    "    <link rel=\"stylesheet\" href=\"styles.css\">\n",
    "    <link href='https://fonts.googleapis.com/css?family=Merriweather' rel='stylesheet'>\n",
    "    <div style=\"background-color: #3D0069; color: white ; font-family: 'Merriweather'; font-weight: bold; text-align: center; padding: 40px; font-size: 16px;\">\n",
    "    <h1>Interrogation of the Parch  & Posey (P & P) Database to Improve Sales Performance</h1>\n",
    "        by\n",
    "    \n",
    "    Buhari Shehu (The Datavestigator)\n",
    "     \n",
    "\n",
    "</head>\n"
   ]
  },
  {
   "cell_type": "markdown",
   "id": "e2b0a531",
   "metadata": {},
   "source": [
    "<img src=\"erd.png\" width=700 height=200 />"
   ]
  },
  {
   "cell_type": "markdown",
   "id": "06d943b5",
   "metadata": {},
   "source": [
    "<div style=\"background-color: #F5E8DA; padding: 10px;font-family: 'Merriweather'; font-size: 16px;\">\n",
    "<h2>Table of Contents</h2>\n",
    "<ol>\n",
    "<li><a href=\"#intro\">Executive Summary</a></li>    \n",
    "<li><a href=\"#intro\">Introduction</a></li>\n",
    "<li><a href=\"#wrangling\">Methodology</a></li>\n",
    "<li><a href=\"#eda\">Analysis</a></li>\n",
    "<li><a href=\"#conclusions\">Conclusions</a></li>\n",
    "<li><a href=\"#model\">Recommendations</a></li>\n",
    "<li><a href=\"#references\">References</a></li>\n",
    "</ol>\n",
    "</div>"
   ]
  },
  {
   "cell_type": "markdown",
   "id": "da6ea165",
   "metadata": {},
   "source": [
    "<link href='https://fonts.googleapis.com/css?family=Merriweather' rel='stylesheet'>\n",
    "<h2 style=\"background-color: #F5E8DA; color: #50006C; font-family: 'Merriweather'; font-weight: bold; font-size: 20px; text-align: center; padding: 10px 0;\">\n",
    "  1. Executive Summary\n",
    "</h2>\n"
   ]
  },
  {
   "cell_type": "markdown",
   "id": "060c9cf5",
   "metadata": {},
   "source": [
    "<link href='https://fonts.googleapis.com/css?family=Merriweather' rel='stylesheet'>\n",
    "<h2 style=\"background-color: #F5E8DA; color: #50006C; font-family: 'Merriweather'; font-weight: bold; font-size: 20px; text-align: center; padding: 10px 0;\">\n",
    "  2. Introduction\n",
    "</h2>\n"
   ]
  },
  {
   "cell_type": "markdown",
   "id": "e99726e4",
   "metadata": {},
   "source": [
    "<link href='https://fonts.googleapis.com/css?family=Merriweather' rel='stylesheet'>\n",
    "<h2 style=\"background-color: #F5E8DA; color: #50006C; font-family: 'Merriweather'; font-weight: bold; font-size: 20px; text-align: center; padding: 10px 0;\">\n",
    "  3. Methodology\n",
    "</h2>\n"
   ]
  },
  {
   "cell_type": "markdown",
   "id": "39671fe5",
   "metadata": {},
   "source": [
    "<link href='https://fonts.googleapis.com/css?family=Merriweather' rel='stylesheet'>\n",
    "<h2 style=\"background-color: #F5E8DA; color: #50006C; font-family: 'Merriweather'; font-weight: bold; font-size: 20px; text-align: center; padding: 10px 0;\">\n",
    "  4. Analysis\n",
    "</h2>\n"
   ]
  },
  {
   "cell_type": "markdown",
   "id": "eae50b67",
   "metadata": {},
   "source": [
    "### 4.1 Import dependencies and load the database\n",
    "\n",
    "To ensure the successful execution of this project, it is crucial to have the following listed packages installed:\n",
    "- `numpy`\n",
    "- `pandas`\n",
    "- `matplotlib`\n",
    "- `seaborn`\n",
    "- `sqlalchemy`\n",
    "- `ipython-sql`\n",
    "- `pymysql`"
   ]
  },
  {
   "cell_type": "code",
   "execution_count": 298,
   "id": "a0fc8c39",
   "metadata": {},
   "outputs": [],
   "source": [
    "# Import data analysis toolkits\n",
    "import pandas as pd\n",
    "import numpy as np\n",
    "\n",
    "# Import visualization libraries\n",
    "import matplotlib.pyplot as plt\n",
    "%matplotlib inline\n",
    "\n",
    "import seaborn as sns\n",
    "# Override matplotlib \n",
    "sns.set()"
   ]
  },
  {
   "cell_type": "code",
   "execution_count": 7,
   "id": "0f280593",
   "metadata": {},
   "outputs": [
    {
     "name": "stdout",
     "output_type": "stream",
     "text": [
      "The sql extension is already loaded. To reload it, use:\n",
      "  %reload_ext sql\n"
     ]
    }
   ],
   "source": [
    "# Load Magic commands\n",
    "%load_ext sql\n",
    "\n",
    "# Load SQLite database\n",
    "%sql sqlite:///pandp.db"
   ]
  },
  {
   "cell_type": "markdown",
   "id": "476f5b56",
   "metadata": {},
   "source": [
    "***Which tables are in the database?***"
   ]
  },
  {
   "cell_type": "code",
   "execution_count": 13,
   "id": "f6fd02e3",
   "metadata": {},
   "outputs": [
    {
     "name": "stdout",
     "output_type": "stream",
     "text": [
      " * sqlite:///pandp.db\n",
      "Done.\n"
     ]
    },
    {
     "data": {
      "text/html": [
       "<table>\n",
       "    <tr>\n",
       "        <th>tables</th>\n",
       "    </tr>\n",
       "    <tr>\n",
       "        <td>accounts</td>\n",
       "    </tr>\n",
       "    <tr>\n",
       "        <td>orders</td>\n",
       "    </tr>\n",
       "    <tr>\n",
       "        <td>region</td>\n",
       "    </tr>\n",
       "    <tr>\n",
       "        <td>sales_reps</td>\n",
       "    </tr>\n",
       "    <tr>\n",
       "        <td>web_events</td>\n",
       "    </tr>\n",
       "</table>"
      ],
      "text/plain": [
       "[('accounts',), ('orders',), ('region',), ('sales_reps',), ('web_events',)]"
      ]
     },
     "execution_count": 13,
     "metadata": {},
     "output_type": "execute_result"
    }
   ],
   "source": [
    "%%sql\n",
    "SELECT name tables\n",
    "FROM sqlite_master \n",
    "WHERE type IN ('table','view') AND name NOT LIKE 'sqlite_%' \n",
    "ORDER BY 1;"
   ]
  },
  {
   "cell_type": "markdown",
   "id": "79a99594",
   "metadata": {},
   "source": [
    "The database includes tables for **`accounts, orders, region`**, sales representatives (**`sales_reps`**), and web events (**`web_events`**)."
   ]
  },
  {
   "cell_type": "markdown",
   "id": "3b81ce71",
   "metadata": {},
   "source": [
    "***When were the earliest and latest orders placed?***"
   ]
  },
  {
   "cell_type": "code",
   "execution_count": 15,
   "id": "19a8a8e7",
   "metadata": {},
   "outputs": [
    {
     "name": "stdout",
     "output_type": "stream",
     "text": [
      " * sqlite:///pandp.db\n",
      "Done.\n"
     ]
    },
    {
     "data": {
      "text/html": [
       "<table>\n",
       "    <tr>\n",
       "        <th>earliest order date</th>\n",
       "        <th>latest order date</th>\n",
       "    </tr>\n",
       "    <tr>\n",
       "        <td>2013 12 04</td>\n",
       "        <td>2017 01 02</td>\n",
       "    </tr>\n",
       "</table>"
      ],
      "text/plain": [
       "[('2013 12 04', '2017 01 02')]"
      ]
     },
     "execution_count": 15,
     "metadata": {},
     "output_type": "execute_result"
    }
   ],
   "source": [
    "%%sql\n",
    "SELECT MIN(STRFTIME('%Y %m %d', occurred_at)) 'earliest order date', MAX(STRFTIME('%Y %m %d', occurred_at)) 'latest order date'\n",
    "FROM orders;"
   ]
  },
  {
   "cell_type": "markdown",
   "id": "eff59ccd",
   "metadata": {},
   "source": [
    "The earliest recorded order was placed in **`December 4th, 2013`** and the most recent order was placed on **`January 2nd, 2017`**. As a result, these two years will be excluded from some analyses due to the lack of sufficient data."
   ]
  },
  {
   "cell_type": "markdown",
   "id": "7092d607",
   "metadata": {},
   "source": [
    "### 4.2 Sales representatives\n",
    "\n",
    "***What is the number of sales representatives at P&P?***"
   ]
  },
  {
   "cell_type": "code",
   "execution_count": 336,
   "id": "463e4be3",
   "metadata": {},
   "outputs": [
    {
     "name": "stdout",
     "output_type": "stream",
     "text": [
      " * sqlite:///pandp.db\n",
      "Done.\n"
     ]
    },
    {
     "data": {
      "text/html": [
       "<table>\n",
       "    <tr>\n",
       "        <th>number of sales representatives</th>\n",
       "    </tr>\n",
       "    <tr>\n",
       "        <td>50</td>\n",
       "    </tr>\n",
       "</table>"
      ],
      "text/plain": [
       "[(50,)]"
      ]
     },
     "execution_count": 336,
     "metadata": {},
     "output_type": "execute_result"
    }
   ],
   "source": [
    "%%sql\n",
    "SELECT COUNT(*) 'number of sales representatives'\n",
    "FROM sales_reps;"
   ]
  },
  {
   "cell_type": "markdown",
   "id": "2eb1a592",
   "metadata": {},
   "source": [
    "There are **`50`** sales representatives at **P&P**.\n",
    "\n",
    "***Which sales representatives are the top and bottom five performers?***"
   ]
  },
  {
   "cell_type": "markdown",
   "id": "408db6f6",
   "metadata": {},
   "source": [
    "- **Top perfomers**"
   ]
  },
  {
   "cell_type": "code",
   "execution_count": 24,
   "id": "29eb002d",
   "metadata": {},
   "outputs": [
    {
     "name": "stdout",
     "output_type": "stream",
     "text": [
      " * sqlite:///pandp.db\n",
      "Done.\n"
     ]
    },
    {
     "data": {
      "text/html": [
       "<table>\n",
       "    <tr>\n",
       "        <th>sales_rep</th>\n",
       "        <th>total_sales</th>\n",
       "    </tr>\n",
       "    <tr>\n",
       "        <td>Earlie Schleusner</td>\n",
       "        <td>1098137.72</td>\n",
       "    </tr>\n",
       "    <tr>\n",
       "        <td>Tia Amato</td>\n",
       "        <td>1010690.6</td>\n",
       "    </tr>\n",
       "    <tr>\n",
       "        <td>Vernita Plump</td>\n",
       "        <td>934212.93</td>\n",
       "    </tr>\n",
       "    <tr>\n",
       "        <td>Georgianna Chisholm</td>\n",
       "        <td>886244.12</td>\n",
       "    </tr>\n",
       "    <tr>\n",
       "        <td>Arica Stoltzfus</td>\n",
       "        <td>810353.34</td>\n",
       "    </tr>\n",
       "</table>"
      ],
      "text/plain": [
       "[('Earlie Schleusner', 1098137.72),\n",
       " ('Tia Amato', 1010690.6),\n",
       " ('Vernita Plump', 934212.93),\n",
       " ('Georgianna Chisholm', 886244.12),\n",
       " ('Arica Stoltzfus', 810353.34)]"
      ]
     },
     "execution_count": 24,
     "metadata": {},
     "output_type": "execute_result"
    }
   ],
   "source": [
    "%%sql\n",
    "SELECT s.name sales_rep, ROUND(SUM(o.total_amt_usd), 2) total_sales\n",
    "FROM sales_reps s\n",
    "JOIN accounts a\n",
    "ON s.id = a.sales_rep_id\n",
    "JOIN orders o\n",
    "ON a.id = o.account_id\n",
    "GROUP BY 1\n",
    "ORDER BY 2 DESC\n",
    "LIMIT 5;"
   ]
  },
  {
   "cell_type": "markdown",
   "id": "bd7f268d",
   "metadata": {},
   "source": [
    "The top sales representatives are **`Earlie Schleusner, Tia Amato, Vernita Plump, Georgianna Chisholm, Arica Stoltzfus`**. Each of them recorded more than **`$800,000`** in sales."
   ]
  },
  {
   "cell_type": "markdown",
   "id": "631f5552",
   "metadata": {},
   "source": [
    "- **Low performers**"
   ]
  },
  {
   "cell_type": "code",
   "execution_count": 25,
   "id": "2fdffd1b",
   "metadata": {},
   "outputs": [
    {
     "name": "stdout",
     "output_type": "stream",
     "text": [
      " * sqlite:///pandp.db\n",
      "Done.\n"
     ]
    },
    {
     "data": {
      "text/html": [
       "<table>\n",
       "    <tr>\n",
       "        <th>sales_rep</th>\n",
       "        <th>total_sales</th>\n",
       "    </tr>\n",
       "    <tr>\n",
       "        <td>Nakesha Renn</td>\n",
       "        <td>49361.11</td>\n",
       "    </tr>\n",
       "    <tr>\n",
       "        <td>Julie Starr</td>\n",
       "        <td>89097.65</td>\n",
       "    </tr>\n",
       "    <tr>\n",
       "        <td>Elba Felder</td>\n",
       "        <td>114976.59</td>\n",
       "    </tr>\n",
       "    <tr>\n",
       "        <td>Kathleen Lalonde</td>\n",
       "        <td>116307.79</td>\n",
       "    </tr>\n",
       "    <tr>\n",
       "        <td>Akilah Drinkard</td>\n",
       "        <td>136613.99</td>\n",
       "    </tr>\n",
       "</table>"
      ],
      "text/plain": [
       "[('Nakesha Renn', 49361.11),\n",
       " ('Julie Starr', 89097.65),\n",
       " ('Elba Felder', 114976.59),\n",
       " ('Kathleen Lalonde', 116307.79),\n",
       " ('Akilah Drinkard', 136613.99)]"
      ]
     },
     "execution_count": 25,
     "metadata": {},
     "output_type": "execute_result"
    }
   ],
   "source": [
    "%%sql\n",
    "SELECT s.name sales_rep, ROUND(SUM(o.total_amt_usd), 2) total_sales\n",
    "FROM sales_reps s\n",
    "JOIN accounts a\n",
    "ON s.id = a.sales_rep_id\n",
    "JOIN orders o\n",
    "ON a.id = o.account_id\n",
    "GROUP BY 1\n",
    "ORDER BY 2\n",
    "LIMIT 5;"
   ]
  },
  {
   "cell_type": "markdown",
   "id": "c082f997",
   "metadata": {},
   "source": [
    "The low performers are **Nakesha Renn, Julie Starr, Elba Felder, Kathleen Lalonde, Akilah Drinkard** each of them recorded less than **$150,000** in sales. This is more than **500% difference** from the top perfomers."
   ]
  },
  {
   "cell_type": "markdown",
   "id": "3336b3e8",
   "metadata": {},
   "source": [
    "### What is the performance trends/behaviour of the top performing sales reps??"
   ]
  },
  {
   "cell_type": "code",
   "execution_count": 77,
   "id": "8b83309f",
   "metadata": {},
   "outputs": [
    {
     "name": "stdout",
     "output_type": "stream",
     "text": [
      " * sqlite:///pandp.db\n",
      "Done.\n"
     ]
    },
    {
     "data": {
      "text/html": [
       "<table>\n",
       "    <tr>\n",
       "        <th>sales_rep</th>\n",
       "        <th>year</th>\n",
       "        <th>total_sales</th>\n",
       "    </tr>\n",
       "    <tr>\n",
       "        <td>Arica Stoltzfus</td>\n",
       "        <td>2013</td>\n",
       "        <td>19596.7</td>\n",
       "    </tr>\n",
       "    <tr>\n",
       "        <td>Arica Stoltzfus</td>\n",
       "        <td>2014</td>\n",
       "        <td>178758.0</td>\n",
       "    </tr>\n",
       "    <tr>\n",
       "        <td>Arica Stoltzfus</td>\n",
       "        <td>2015</td>\n",
       "        <td>312236.42</td>\n",
       "    </tr>\n",
       "    <tr>\n",
       "        <td>Arica Stoltzfus</td>\n",
       "        <td>2016</td>\n",
       "        <td>291377.61</td>\n",
       "    </tr>\n",
       "    <tr>\n",
       "        <td>Arica Stoltzfus</td>\n",
       "        <td>2017</td>\n",
       "        <td>8384.61</td>\n",
       "    </tr>\n",
       "    <tr>\n",
       "        <td>Earlie Schleusner</td>\n",
       "        <td>2013</td>\n",
       "        <td>33182.64</td>\n",
       "    </tr>\n",
       "    <tr>\n",
       "        <td>Earlie Schleusner</td>\n",
       "        <td>2014</td>\n",
       "        <td>253434.98</td>\n",
       "    </tr>\n",
       "    <tr>\n",
       "        <td>Earlie Schleusner</td>\n",
       "        <td>2015</td>\n",
       "        <td>241763.05</td>\n",
       "    </tr>\n",
       "    <tr>\n",
       "        <td>Earlie Schleusner</td>\n",
       "        <td>2016</td>\n",
       "        <td>560717.22</td>\n",
       "    </tr>\n",
       "    <tr>\n",
       "        <td>Earlie Schleusner</td>\n",
       "        <td>2017</td>\n",
       "        <td>9039.83</td>\n",
       "    </tr>\n",
       "    <tr>\n",
       "        <td>Georgianna Chisholm</td>\n",
       "        <td>2014</td>\n",
       "        <td>43677.04</td>\n",
       "    </tr>\n",
       "    <tr>\n",
       "        <td>Georgianna Chisholm</td>\n",
       "        <td>2015</td>\n",
       "        <td>250151.14</td>\n",
       "    </tr>\n",
       "    <tr>\n",
       "        <td>Georgianna Chisholm</td>\n",
       "        <td>2016</td>\n",
       "        <td>592415.94</td>\n",
       "    </tr>\n",
       "    <tr>\n",
       "        <td>Tia Amato</td>\n",
       "        <td>2013</td>\n",
       "        <td>22204.81</td>\n",
       "    </tr>\n",
       "    <tr>\n",
       "        <td>Tia Amato</td>\n",
       "        <td>2014</td>\n",
       "        <td>241150.65</td>\n",
       "    </tr>\n",
       "    <tr>\n",
       "        <td>Tia Amato</td>\n",
       "        <td>2015</td>\n",
       "        <td>286155.57</td>\n",
       "    </tr>\n",
       "    <tr>\n",
       "        <td>Tia Amato</td>\n",
       "        <td>2016</td>\n",
       "        <td>461179.57</td>\n",
       "    </tr>\n",
       "    <tr>\n",
       "        <td>Vernita Plump</td>\n",
       "        <td>2013</td>\n",
       "        <td>11752.37</td>\n",
       "    </tr>\n",
       "    <tr>\n",
       "        <td>Vernita Plump</td>\n",
       "        <td>2014</td>\n",
       "        <td>158739.14</td>\n",
       "    </tr>\n",
       "    <tr>\n",
       "        <td>Vernita Plump</td>\n",
       "        <td>2015</td>\n",
       "        <td>308642.83</td>\n",
       "    </tr>\n",
       "    <tr>\n",
       "        <td>Vernita Plump</td>\n",
       "        <td>2016</td>\n",
       "        <td>455078.59</td>\n",
       "    </tr>\n",
       "</table>"
      ],
      "text/plain": [
       "[('Arica Stoltzfus', '2013', 19596.7),\n",
       " ('Arica Stoltzfus', '2014', 178758.0),\n",
       " ('Arica Stoltzfus', '2015', 312236.42),\n",
       " ('Arica Stoltzfus', '2016', 291377.61),\n",
       " ('Arica Stoltzfus', '2017', 8384.61),\n",
       " ('Earlie Schleusner', '2013', 33182.64),\n",
       " ('Earlie Schleusner', '2014', 253434.98),\n",
       " ('Earlie Schleusner', '2015', 241763.05),\n",
       " ('Earlie Schleusner', '2016', 560717.22),\n",
       " ('Earlie Schleusner', '2017', 9039.83),\n",
       " ('Georgianna Chisholm', '2014', 43677.04),\n",
       " ('Georgianna Chisholm', '2015', 250151.14),\n",
       " ('Georgianna Chisholm', '2016', 592415.94),\n",
       " ('Tia Amato', '2013', 22204.81),\n",
       " ('Tia Amato', '2014', 241150.65),\n",
       " ('Tia Amato', '2015', 286155.57),\n",
       " ('Tia Amato', '2016', 461179.57),\n",
       " ('Vernita Plump', '2013', 11752.37),\n",
       " ('Vernita Plump', '2014', 158739.14),\n",
       " ('Vernita Plump', '2015', 308642.83),\n",
       " ('Vernita Plump', '2016', 455078.59)]"
      ]
     },
     "execution_count": 77,
     "metadata": {},
     "output_type": "execute_result"
    }
   ],
   "source": [
    "%%sql\n",
    "SELECT s.name sales_rep, STRFTIME('%Y', o.occurred_at) year, ROUND(SUM(o.total_amt_usd), 2) total_sales\n",
    "FROM sales_reps s\n",
    "JOIN accounts a\n",
    "ON s.id = a.sales_rep_id\n",
    "JOIN orders o\n",
    "ON a.id = o.account_id\n",
    "WHERE s.name IN ('Earlie Schleusner', 'Tia Amato', 'Vernita Plump', 'Georgianna Chisholm', 'Arica Stoltzfus')\n",
    "GROUP BY 1, 2\n",
    "ORDER BY 1;"
   ]
  },
  {
   "cell_type": "code",
   "execution_count": 87,
   "id": "a6c705b9",
   "metadata": {},
   "outputs": [
    {
     "name": "stdout",
     "output_type": "stream",
     "text": [
      " * sqlite:///pandp.db\n",
      "Done.\n"
     ]
    }
   ],
   "source": [
    "# Create high sales reps df\n",
    "high_sales_reps_query = %sql SELECT s.name sales_rep, STRFTIME('%Y', o.occurred_at) year, ROUND(SUM(o.total_amt_usd), 2) total_sales FROM sales_reps s JOIN accounts a ON s.id = a.sales_rep_id JOIN orders o ON a.id = o.account_id WHERE s.name IN ('Earlie Schleusner', 'Tia Amato', 'Vernita Plump', 'Georgianna Chisholm', 'Arica Stoltzfus') GROUP BY 1, 2 ORDER BY 2\n",
    "high_sales_reps_df = high_sales_reps_query.DataFrame()"
   ]
  },
  {
   "cell_type": "code",
   "execution_count": 255,
   "id": "7e11b0c9",
   "metadata": {},
   "outputs": [],
   "source": [
    "def plot_bar(x, y, hue, df):\n",
    "    \"\"\"\n",
    "    Create a bar plot using Seaborn.\n",
    "    \n",
    "    Parameters:\n",
    "    x (str): The column to use for the x-axis.\n",
    "    y (str): The column to use for the y-axis.\n",
    "    hue (str): The column to use for color encoding.\n",
    "    df (pandas.DataFrame): The dataframe to use for the plot.\n",
    "    \n",
    "    Returns:\n",
    "    None\n",
    "    \"\"\"\n",
    "    plt.figure(figsize=(10, 6)) \n",
    "    sns.barplot(x=x, y=y, hue=hue, data=df)\n",
    "    plt.show()\n"
   ]
  },
  {
   "cell_type": "code",
   "execution_count": 256,
   "id": "7cd44e2a",
   "metadata": {},
   "outputs": [
    {
     "data": {
      "image/png": "[encoded data removed]",
      "text/plain": [
       "<Figure size 720x432 with 1 Axes>"
      ]
     },
     "metadata": {},
     "output_type": "display_data"
    }
   ],
   "source": [
    "plot_bar(x='sales_rep', y='total_sales', hue='year', df=high_sales_reps_df)\n"
   ]
  },
  {
   "cell_type": "markdown",
   "id": "fa32ee6c",
   "metadata": {},
   "source": [
    "The top performers are in close competition/contention with one another and they are improving annually."
   ]
  },
  {
   "cell_type": "markdown",
   "id": "c4924e3e",
   "metadata": {},
   "source": [
    "### Why Nakesha Renn and co are having low cummulative sales?"
   ]
  },
  {
   "cell_type": "code",
   "execution_count": 31,
   "id": "d5dcd066",
   "metadata": {},
   "outputs": [
    {
     "name": "stdout",
     "output_type": "stream",
     "text": [
      " * sqlite:///pandp.db\n",
      "Done.\n"
     ]
    },
    {
     "data": {
      "text/html": [
       "<table>\n",
       "    <tr>\n",
       "        <th>sales_rep</th>\n",
       "        <th>year</th>\n",
       "        <th>total_sales</th>\n",
       "    </tr>\n",
       "    <tr>\n",
       "        <td>Akilah Drinkard</td>\n",
       "        <td>2014</td>\n",
       "        <td>41117.38</td>\n",
       "    </tr>\n",
       "    <tr>\n",
       "        <td>Akilah Drinkard</td>\n",
       "        <td>2015</td>\n",
       "        <td>38109.41</td>\n",
       "    </tr>\n",
       "    <tr>\n",
       "        <td>Akilah Drinkard</td>\n",
       "        <td>2016</td>\n",
       "        <td>57387.2</td>\n",
       "    </tr>\n",
       "    <tr>\n",
       "        <td>Elba Felder</td>\n",
       "        <td>2013</td>\n",
       "        <td>1228.72</td>\n",
       "    </tr>\n",
       "    <tr>\n",
       "        <td>Elba Felder</td>\n",
       "        <td>2014</td>\n",
       "        <td>22893.08</td>\n",
       "    </tr>\n",
       "    <tr>\n",
       "        <td>Elba Felder</td>\n",
       "        <td>2015</td>\n",
       "        <td>38088.2</td>\n",
       "    </tr>\n",
       "    <tr>\n",
       "        <td>Elba Felder</td>\n",
       "        <td>2016</td>\n",
       "        <td>51730.02</td>\n",
       "    </tr>\n",
       "    <tr>\n",
       "        <td>Elba Felder</td>\n",
       "        <td>2017</td>\n",
       "        <td>1036.57</td>\n",
       "    </tr>\n",
       "    <tr>\n",
       "        <td>Julie Starr</td>\n",
       "        <td>2013</td>\n",
       "        <td>738.54</td>\n",
       "    </tr>\n",
       "    <tr>\n",
       "        <td>Julie Starr</td>\n",
       "        <td>2014</td>\n",
       "        <td>22979.77</td>\n",
       "    </tr>\n",
       "    <tr>\n",
       "        <td>Julie Starr</td>\n",
       "        <td>2016</td>\n",
       "        <td>65379.34</td>\n",
       "    </tr>\n",
       "    <tr>\n",
       "        <td>Kathleen Lalonde</td>\n",
       "        <td>2016</td>\n",
       "        <td>116307.79</td>\n",
       "    </tr>\n",
       "    <tr>\n",
       "        <td>Nakesha Renn</td>\n",
       "        <td>2016</td>\n",
       "        <td>49361.11</td>\n",
       "    </tr>\n",
       "</table>"
      ],
      "text/plain": [
       "[('Akilah Drinkard', '2014', 41117.38),\n",
       " ('Akilah Drinkard', '2015', 38109.41),\n",
       " ('Akilah Drinkard', '2016', 57387.2),\n",
       " ('Elba Felder', '2013', 1228.72),\n",
       " ('Elba Felder', '2014', 22893.08),\n",
       " ('Elba Felder', '2015', 38088.2),\n",
       " ('Elba Felder', '2016', 51730.02),\n",
       " ('Elba Felder', '2017', 1036.57),\n",
       " ('Julie Starr', '2013', 738.54),\n",
       " ('Julie Starr', '2014', 22979.77),\n",
       " ('Julie Starr', '2016', 65379.34),\n",
       " ('Kathleen Lalonde', '2016', 116307.79),\n",
       " ('Nakesha Renn', '2016', 49361.11)]"
      ]
     },
     "execution_count": 31,
     "metadata": {},
     "output_type": "execute_result"
    }
   ],
   "source": [
    "%%sql\n",
    "SELECT s.name sales_rep, STRFTIME('%Y', o.occurred_at) year, ROUND(SUM(o.total_amt_usd), 2) total_sales\n",
    "FROM sales_reps s\n",
    "JOIN accounts a\n",
    "ON s.id = a.sales_rep_id\n",
    "JOIN orders o\n",
    "ON a.id = o.account_id\n",
    "WHERE s.name IN ('Nakesha Renn', 'Julie Starr', 'Elba Felder', 'Kathleen Lalonde', 'Akilah Drinkard')\n",
    "GROUP BY 1, 2\n",
    "ORDER BY 1;"
   ]
  },
  {
   "cell_type": "code",
   "execution_count": 74,
   "id": "5b60eea0",
   "metadata": {},
   "outputs": [
    {
     "name": "stdout",
     "output_type": "stream",
     "text": [
      " * sqlite:///pandp.db\n",
      "Done.\n"
     ]
    }
   ],
   "source": [
    "# Create low sales reps df\n",
    "low_sales_reps_query = %sql SELECT s.name sales_rep, STRFTIME('%Y', o.occurred_at) year, ROUND(SUM(o.total_amt_usd), 2) total_sales FROM sales_reps s JOIN accounts a ON s.id = a.sales_rep_id JOIN orders o ON a.id = o.account_id WHERE s.name IN ('Nakesha Renn', 'Julie Starr', 'Elba Felder', 'Kathleen Lalonde', 'Akilah Drinkard') GROUP BY 1, 2 ORDER BY 2 \n",
    "low_sales_reps_df = low_sales_reps_query.DataFrame()"
   ]
  },
  {
   "cell_type": "code",
   "execution_count": 257,
   "id": "5783e3ed",
   "metadata": {},
   "outputs": [
    {
     "data": {
      "image/png": "[encoded data removed]",
      "text/plain": [
       "<Figure size 720x432 with 1 Axes>"
      ]
     },
     "metadata": {},
     "output_type": "display_data"
    }
   ],
   "source": [
    "plot_bar(x='sales_rep', y='total_sales', hue='year', df=low_sales_reps_df)"
   ]
  },
  {
   "cell_type": "markdown",
   "id": "e61a12bf",
   "metadata": {},
   "source": [
    "- Kathleen and Nakesha only have sales in 2016 which is probably the year they join the company. Thus Kathleen may not be in the low perfomers category. Nakesha may perform better in subsequent years as she gain experience.\n",
    "- Elba has stunted growth\n",
    "- Julie has no sale in 2015 probably was on leave.\n",
    "- Akilah has irregular performance."
   ]
  },
  {
   "cell_type": "markdown",
   "id": "d47f21c1",
   "metadata": {},
   "source": [
    "<div style=\"border: 5px solid #6f00ff;\n",
    "    border-radius: 20px; text-align: center; font-size: 20px; font-family: 'Merriweather'; padding: 16px 0; background-color: #F5E8DA\">\n",
    "  <b>What are the account names and the sales representative for the top three accounts above?</b>\n",
    "</div>"
   ]
  },
  {
   "cell_type": "code",
   "execution_count": 57,
   "id": "c06c0fdd",
   "metadata": {},
   "outputs": [
    {
     "name": "stdout",
     "output_type": "stream",
     "text": [
      " * sqlite:///pandp.db\n",
      "Done.\n"
     ]
    },
    {
     "data": {
      "text/html": [
       "<table>\n",
       "    <tr>\n",
       "        <th>account_name</th>\n",
       "        <th>sales_rep</th>\n",
       "        <th>total_amt_usd</th>\n",
       "    </tr>\n",
       "    <tr>\n",
       "        <td>Pacific Life</td>\n",
       "        <td>Dawna Agnew</td>\n",
       "        <td>232207.07</td>\n",
       "    </tr>\n",
       "    <tr>\n",
       "        <td>Core-Mark Holding</td>\n",
       "        <td>Maryanna Fiorentino</td>\n",
       "        <td>112875.18</td>\n",
       "    </tr>\n",
       "    <tr>\n",
       "        <td>EOG Resources</td>\n",
       "        <td>Arica Stoltzfus</td>\n",
       "        <td>107533.55</td>\n",
       "    </tr>\n",
       "</table>"
      ],
      "text/plain": [
       "[('Pacific Life', 'Dawna Agnew', 232207.07),\n",
       " ('Core-Mark Holding', 'Maryanna Fiorentino', 112875.18),\n",
       " ('EOG Resources', 'Arica Stoltzfus', 107533.55)]"
      ]
     },
     "execution_count": 57,
     "metadata": {},
     "output_type": "execute_result"
    }
   ],
   "source": [
    "%%sql\n",
    "SELECT a.name account_name, s.name sales_rep,  o.total_amt_usd\n",
    "FROM orders o\n",
    "JOIN accounts a\n",
    "ON o.account_id = a.id\n",
    "JOIN sales_reps s\n",
    "ON a.sales_rep_id = s.id\n",
    "WHERE total_amt_usd > 100000\n",
    "ORDER BY 3 DESC;"
   ]
  },
  {
   "cell_type": "markdown",
   "id": "8f0e71fa",
   "metadata": {},
   "source": [
    "### Customers"
   ]
  },
  {
   "cell_type": "markdown",
   "id": "9d5c8e8f",
   "metadata": {},
   "source": [
    "<div style=\"border: 5px solid #3D0069;\n",
    "    border-radius: 10px; text-align: center; font-size: 20px; font-family: 'Merriweather'; padding: 10px; background-color: #F5E8DA\">\n",
    "  <b>Customers?</b>\n",
    "</div>"
   ]
  },
  {
   "cell_type": "markdown",
   "id": "8ef6cf5f",
   "metadata": {},
   "source": [
    "**How many customers?**"
   ]
  },
  {
   "cell_type": "code",
   "execution_count": 93,
   "id": "7c103ed2",
   "metadata": {},
   "outputs": [
    {
     "name": "stdout",
     "output_type": "stream",
     "text": [
      " * sqlite:///pandp.db\n",
      "Done.\n"
     ]
    },
    {
     "data": {
      "text/html": [
       "<table>\n",
       "    <tr>\n",
       "        <th>number_of_customers</th>\n",
       "    </tr>\n",
       "    <tr>\n",
       "        <td>351</td>\n",
       "    </tr>\n",
       "</table>"
      ],
      "text/plain": [
       "[(351,)]"
      ]
     },
     "execution_count": 93,
     "metadata": {},
     "output_type": "execute_result"
    }
   ],
   "source": [
    "%%sql\n",
    "SELECT COUNT(*) number_of_customers\n",
    "FROM accounts;"
   ]
  },
  {
   "cell_type": "markdown",
   "id": "2be121b4",
   "metadata": {},
   "source": [
    "P&P has 351 customers"
   ]
  },
  {
   "cell_type": "markdown",
   "id": "bb2e3a87",
   "metadata": {},
   "source": [
    "**Top 5 and lowest 5 customers**"
   ]
  },
  {
   "cell_type": "code",
   "execution_count": 98,
   "id": "d65fdc9d",
   "metadata": {},
   "outputs": [
    {
     "name": "stdout",
     "output_type": "stream",
     "text": [
      " * sqlite:///pandp.db\n",
      "Done.\n"
     ]
    },
    {
     "data": {
      "text/html": [
       "<table>\n",
       "    <tr>\n",
       "        <th>name</th>\n",
       "        <th>total_purchase</th>\n",
       "    </tr>\n",
       "    <tr>\n",
       "        <td>EOG Resources</td>\n",
       "        <td>382873.3</td>\n",
       "    </tr>\n",
       "    <tr>\n",
       "        <td>Mosaic</td>\n",
       "        <td>345618.59</td>\n",
       "    </tr>\n",
       "    <tr>\n",
       "        <td>IBM</td>\n",
       "        <td>326819.48</td>\n",
       "    </tr>\n",
       "    <tr>\n",
       "        <td>General Dynamics</td>\n",
       "        <td>300694.79</td>\n",
       "    </tr>\n",
       "    <tr>\n",
       "        <td>Republic Services</td>\n",
       "        <td>293861.14</td>\n",
       "    </tr>\n",
       "</table>"
      ],
      "text/plain": [
       "[('EOG Resources', 382873.3),\n",
       " ('Mosaic', 345618.59),\n",
       " ('IBM', 326819.48),\n",
       " ('General Dynamics', 300694.79),\n",
       " ('Republic Services', 293861.14)]"
      ]
     },
     "execution_count": 98,
     "metadata": {},
     "output_type": "execute_result"
    }
   ],
   "source": [
    "%%sql\n",
    "SELECT a.name, ROUND(SUM(o.total_amt_usd), 2) total_purchase\n",
    "FROM accounts a\n",
    "JOIN orders o\n",
    "ON a.id = o.account_id\n",
    "GROUP BY 1\n",
    "ORDER BY 2 DESC\n",
    "LIMIT 5;"
   ]
  },
  {
   "cell_type": "markdown",
   "id": "abf18480",
   "metadata": {},
   "source": [
    "P&P top customers are **EOG Resources, Mosaic, IBM, General Dynamics, Republic Services** with a range of spending close to **$300,000 - $400,000.**"
   ]
  },
  {
   "cell_type": "code",
   "execution_count": 101,
   "id": "b79a4c6e",
   "metadata": {},
   "outputs": [
    {
     "name": "stdout",
     "output_type": "stream",
     "text": [
      " * sqlite:///pandp.db\n",
      "Done.\n"
     ]
    },
    {
     "data": {
      "text/html": [
       "<table>\n",
       "    <tr>\n",
       "        <th>name</th>\n",
       "        <th>total_purchase</th>\n",
       "    </tr>\n",
       "    <tr>\n",
       "        <td>Bed Bath &amp; Beyond</td>\n",
       "        <td>1069.64</td>\n",
       "    </tr>\n",
       "    <tr>\n",
       "        <td>Deere</td>\n",
       "        <td>1036.57</td>\n",
       "    </tr>\n",
       "    <tr>\n",
       "        <td>Level 3 Communications</td>\n",
       "        <td>881.73</td>\n",
       "    </tr>\n",
       "    <tr>\n",
       "        <td>Delta Air Lines</td>\n",
       "        <td>859.64</td>\n",
       "    </tr>\n",
       "    <tr>\n",
       "        <td>Nike</td>\n",
       "        <td>390.25</td>\n",
       "    </tr>\n",
       "</table>"
      ],
      "text/plain": [
       "[('Bed Bath & Beyond', 1069.64),\n",
       " ('Deere', 1036.57),\n",
       " ('Level 3 Communications', 881.73),\n",
       " ('Delta Air Lines', 859.64),\n",
       " ('Nike', 390.25)]"
      ]
     },
     "execution_count": 101,
     "metadata": {},
     "output_type": "execute_result"
    }
   ],
   "source": [
    "%%sql\n",
    "WITH cte AS (SELECT a.name, ROUND(SUM(o.total_amt_usd), 2) total_purchase\n",
    "FROM accounts a\n",
    "JOIN orders o\n",
    "ON a.id = o.account_id\n",
    "GROUP BY 1\n",
    "ORDER BY 2\n",
    "LIMIT 5)\n",
    "\n",
    "SELECT *\n",
    "FROM cte\n",
    "ORDER BY 2 DESC;"
   ]
  },
  {
   "cell_type": "markdown",
   "id": "1f72dea4",
   "metadata": {},
   "source": [
    "**Habits of top and lowest customers**"
   ]
  },
  {
   "cell_type": "code",
   "execution_count": 259,
   "id": "3c5eb38b",
   "metadata": {},
   "outputs": [
    {
     "name": "stdout",
     "output_type": "stream",
     "text": [
      " * sqlite:///pandp.db\n",
      "Done.\n"
     ]
    },
    {
     "data": {
      "text/html": [
       "<table>\n",
       "    <tr>\n",
       "        <th>name</th>\n",
       "        <th>year</th>\n",
       "        <th>annual_purchase</th>\n",
       "    </tr>\n",
       "    <tr>\n",
       "        <td>General Dynamics</td>\n",
       "        <td>2013</td>\n",
       "        <td>10166.07</td>\n",
       "    </tr>\n",
       "    <tr>\n",
       "        <td>General Dynamics</td>\n",
       "        <td>2014</td>\n",
       "        <td>88383.04</td>\n",
       "    </tr>\n",
       "    <tr>\n",
       "        <td>General Dynamics</td>\n",
       "        <td>2015</td>\n",
       "        <td>103768.09</td>\n",
       "    </tr>\n",
       "    <tr>\n",
       "        <td>General Dynamics</td>\n",
       "        <td>2016</td>\n",
       "        <td>98377.59</td>\n",
       "    </tr>\n",
       "    <tr>\n",
       "        <td>IBM</td>\n",
       "        <td>2013</td>\n",
       "        <td>9580.87</td>\n",
       "    </tr>\n",
       "    <tr>\n",
       "        <td>IBM</td>\n",
       "        <td>2014</td>\n",
       "        <td>85418.97</td>\n",
       "    </tr>\n",
       "    <tr>\n",
       "        <td>IBM</td>\n",
       "        <td>2015</td>\n",
       "        <td>146537.01</td>\n",
       "    </tr>\n",
       "    <tr>\n",
       "        <td>IBM</td>\n",
       "        <td>2016</td>\n",
       "        <td>85282.63</td>\n",
       "    </tr>\n",
       "    <tr>\n",
       "        <td>Mosaic</td>\n",
       "        <td>2013</td>\n",
       "        <td>8348.08</td>\n",
       "    </tr>\n",
       "    <tr>\n",
       "        <td>Mosaic</td>\n",
       "        <td>2014</td>\n",
       "        <td>78933.56</td>\n",
       "    </tr>\n",
       "    <tr>\n",
       "        <td>Mosaic</td>\n",
       "        <td>2015</td>\n",
       "        <td>86156.91</td>\n",
       "    </tr>\n",
       "    <tr>\n",
       "        <td>Mosaic</td>\n",
       "        <td>2016</td>\n",
       "        <td>172180.04</td>\n",
       "    </tr>\n",
       "    <tr>\n",
       "        <td>Republic Services</td>\n",
       "        <td>2013</td>\n",
       "        <td>8526.1</td>\n",
       "    </tr>\n",
       "    <tr>\n",
       "        <td>Republic Services</td>\n",
       "        <td>2014</td>\n",
       "        <td>90223.23</td>\n",
       "    </tr>\n",
       "    <tr>\n",
       "        <td>Republic Services</td>\n",
       "        <td>2015</td>\n",
       "        <td>158416.13</td>\n",
       "    </tr>\n",
       "    <tr>\n",
       "        <td>Republic Services</td>\n",
       "        <td>2016</td>\n",
       "        <td>36695.68</td>\n",
       "    </tr>\n",
       "</table>"
      ],
      "text/plain": [
       "[('General Dynamics', '2013', 10166.07),\n",
       " ('General Dynamics', '2014', 88383.04),\n",
       " ('General Dynamics', '2015', 103768.09),\n",
       " ('General Dynamics', '2016', 98377.59),\n",
       " ('IBM', '2013', 9580.87),\n",
       " ('IBM', '2014', 85418.97),\n",
       " ('IBM', '2015', 146537.01),\n",
       " ('IBM', '2016', 85282.63),\n",
       " ('Mosaic', '2013', 8348.08),\n",
       " ('Mosaic', '2014', 78933.56),\n",
       " ('Mosaic', '2015', 86156.91),\n",
       " ('Mosaic', '2016', 172180.04),\n",
       " ('Republic Services', '2013', 8526.1),\n",
       " ('Republic Services', '2014', 90223.23),\n",
       " ('Republic Services', '2015', 158416.13),\n",
       " ('Republic Services', '2016', 36695.68)]"
      ]
     },
     "execution_count": 259,
     "metadata": {},
     "output_type": "execute_result"
    }
   ],
   "source": [
    "%%sql\n",
    "SELECT  a.name, STRFTIME('%Y',  o.occurred_at) year,  ROUND(SUM(o.total_amt_usd),2) annual_purchase\n",
    "FROM accounts a \n",
    "JOIN orders o\n",
    "ON o.account_id = a.id\n",
    "WHERE a.name IN ('G Resources', 'Mosaic', 'IBM', 'General Dynamics',  'Republic Services')\n",
    "GROUP BY 1, 2;"
   ]
  },
  {
   "cell_type": "code",
   "execution_count": 260,
   "id": "431cedbe",
   "metadata": {},
   "outputs": [
    {
     "name": "stdout",
     "output_type": "stream",
     "text": [
      " * sqlite:///pandp.db\n",
      "Done.\n"
     ]
    }
   ],
   "source": [
    "top_customers_qry = %sql SELECT  a.name, STRFTIME('%Y',  o.occurred_at) year, ROUND(SUM(o.total_amt_usd),2) annual_purchase FROM accounts a JOIN orders o ON o.account_id = a.id WHERE a.name IN ('G Resources', 'Mosaic', 'IBM', 'General Dynamics',  'Republic Services') GROUP BY 1, 2;\n",
    "top_customers_df = top_customers_qry.DataFrame()\n"
   ]
  },
  {
   "cell_type": "code",
   "execution_count": 261,
   "id": "69cc8c67",
   "metadata": {
    "scrolled": true
   },
   "outputs": [
    {
     "data": {
      "image/png": "[encoded data removed]",
      "text/plain": [
       "<Figure size 720x432 with 1 Axes>"
      ]
     },
     "metadata": {},
     "output_type": "display_data"
    }
   ],
   "source": [
    "plot_bar(x='name', y='annual_purchase', hue='year', df=top_customers_df)"
   ]
  },
  {
   "cell_type": "markdown",
   "id": "ababe36b",
   "metadata": {},
   "source": [
    "- Although 2016 is the best for P&P their top 5 customers made thei largest purchase in 2015 with the exception of mosiac. There is a need to dig into the reason for the decline . "
   ]
  },
  {
   "cell_type": "code",
   "execution_count": 262,
   "id": "785e1e0a",
   "metadata": {},
   "outputs": [
    {
     "name": "stdout",
     "output_type": "stream",
     "text": [
      " * sqlite:///pandp.db\n",
      "Done.\n"
     ]
    },
    {
     "data": {
      "text/html": [
       "<table>\n",
       "    <tr>\n",
       "        <th>name</th>\n",
       "        <th>year</th>\n",
       "        <th>annual_purchase</th>\n",
       "    </tr>\n",
       "    <tr>\n",
       "        <td>Bed Bath &amp; Beyond</td>\n",
       "        <td>2013</td>\n",
       "        <td>1069.64</td>\n",
       "    </tr>\n",
       "    <tr>\n",
       "        <td>Deere</td>\n",
       "        <td>2017</td>\n",
       "        <td>1036.57</td>\n",
       "    </tr>\n",
       "    <tr>\n",
       "        <td>Delta Air Lines</td>\n",
       "        <td>2016</td>\n",
       "        <td>859.64</td>\n",
       "    </tr>\n",
       "    <tr>\n",
       "        <td>Level 3 Communications</td>\n",
       "        <td>2015</td>\n",
       "        <td>881.73</td>\n",
       "    </tr>\n",
       "    <tr>\n",
       "        <td>Nike</td>\n",
       "        <td>2016</td>\n",
       "        <td>390.25</td>\n",
       "    </tr>\n",
       "</table>"
      ],
      "text/plain": [
       "[('Bed Bath & Beyond', '2013', 1069.64),\n",
       " ('Deere', '2017', 1036.57),\n",
       " ('Delta Air Lines', '2016', 859.64),\n",
       " ('Level 3 Communications', '2015', 881.73),\n",
       " ('Nike', '2016', 390.25)]"
      ]
     },
     "execution_count": 262,
     "metadata": {},
     "output_type": "execute_result"
    }
   ],
   "source": [
    "%%sql\n",
    "SELECT  a.name, STRFTIME('%Y',  o.occurred_at) year,  ROUND(SUM(o.total_amt_usd),2) annual_purchase\n",
    "FROM accounts a \n",
    "JOIN orders o\n",
    "ON o.account_id = a.id\n",
    "WHERE a.name IN ('Bed Bath & Beyond', 'Deere', 'Level 3 Communications', 'Delta Air Lines', 'Nike')\n",
    "GROUP BY 1, 2;"
   ]
  },
  {
   "cell_type": "code",
   "execution_count": 264,
   "id": "66c8d7c9",
   "metadata": {},
   "outputs": [
    {
     "name": "stdout",
     "output_type": "stream",
     "text": [
      " * sqlite:///pandp.db\n",
      "Done.\n"
     ]
    }
   ],
   "source": [
    "low_customers_qry = %sql SELECT  a.name, STRFTIME('%Y',  o.occurred_at) year, ROUND(SUM(o.total_amt_usd),2) annual_purchase FROM accounts a JOIN orders o ON o.account_id = a.id WHERE a.name IN ('Bed Bath & Beyond', 'Deere', 'Level 3 Communications', 'Delta Air Lines', 'Nike') GROUP BY 1, 2;\n",
    "low_customers_df = top_customers_qry.DataFrame()"
   ]
  },
  {
   "cell_type": "code",
   "execution_count": 265,
   "id": "b097bccb",
   "metadata": {},
   "outputs": [
    {
     "data": {
      "image/png": "[encoded data removed]",
      "text/plain": [
       "<Figure size 720x432 with 1 Axes>"
      ]
     },
     "metadata": {},
     "output_type": "display_data"
    }
   ],
   "source": [
    "plot_bar(x='name', y='annual_purchase', hue='year', df=top_customers_df)"
   ]
  },
  {
   "cell_type": "markdown",
   "id": "ffcd0a71",
   "metadata": {},
   "source": [
    "- All low performers purchased from the company fro the period of one year\n",
    "- **Bed Bath & Beyond** and **Level 3 Communications** only transacted with the company in 2013 and 2015 respectively. They have churned.\n",
    "- Delta Air Lines and Nike only transacted in 2016 while Deere only transact in 2017. They are new customers."
   ]
  },
  {
   "cell_type": "markdown",
   "id": "d66c6b05",
   "metadata": {},
   "source": [
    "**New Customers**"
   ]
  },
  {
   "cell_type": "code",
   "execution_count": 109,
   "id": "983b9707",
   "metadata": {},
   "outputs": [
    {
     "name": "stdout",
     "output_type": "stream",
     "text": [
      " * sqlite:///pandp.db\n",
      "Done.\n"
     ]
    },
    {
     "data": {
      "text/html": [
       "<table>\n",
       "    <tr>\n",
       "        <th>year</th>\n",
       "        <th>number_of_customers</th>\n",
       "    </tr>\n",
       "    <tr>\n",
       "        <td>2013</td>\n",
       "        <td>61</td>\n",
       "    </tr>\n",
       "    <tr>\n",
       "        <td>2014</td>\n",
       "        <td>80</td>\n",
       "    </tr>\n",
       "    <tr>\n",
       "        <td>2015</td>\n",
       "        <td>134</td>\n",
       "    </tr>\n",
       "    <tr>\n",
       "        <td>2016</td>\n",
       "        <td>317</td>\n",
       "    </tr>\n",
       "    <tr>\n",
       "        <td>2017</td>\n",
       "        <td>14</td>\n",
       "    </tr>\n",
       "</table>"
      ],
      "text/plain": [
       "[('2013', 61), ('2014', 80), ('2015', 134), ('2016', 317), ('2017', 14)]"
      ]
     },
     "execution_count": 109,
     "metadata": {},
     "output_type": "execute_result"
    }
   ],
   "source": [
    "%%sql\n",
    "SELECT  STRFTIME('%Y', occurred_at) year,  COUNT(DISTINCT account_id) number_of_customers\n",
    "FROM orders\n",
    "GROUP BY 1;"
   ]
  },
  {
   "cell_type": "code",
   "execution_count": 139,
   "id": "186484bf",
   "metadata": {},
   "outputs": [
    {
     "name": "stdout",
     "output_type": "stream",
     "text": [
      " * sqlite:///pandp.db\n",
      "(sqlite3.OperationalError) no such table: cte.account_id\n",
      "[SQL: WITH cte AS (SELECT DISTINCT account_id FROM orders WHERE STRFTIME('%Y', occurred_at) != '2013')\n",
      "\n",
      "SELECT DISTINCT account_id \n",
      "FROM orders o\n",
      "JOIN cte\n",
      "ON o.account_id = cte.account_id\n",
      "WHERE STRFTIME('%Y', o.occurred_at) = '2013' AND (account_id NOT IN cte.account_id)]\n",
      "(Background on this error at: https://sqlalche.me/e/14/e3q8)\n"
     ]
    }
   ],
   "source": [
    "\n",
    "\n",
    "%%sql\n",
    "WITH cte AS (SELECT DISTINCT account_id FROM orders WHERE STRFTIME('%Y', occurred_at) != '2013')\n",
    "\n",
    "SELECT DISTINCT account_id \n",
    "FROM orders o\n",
    "JOIN cte\n",
    "ON o.account_id = cte.account_id\n",
    "WHERE STRFTIME('%Y', o.occurred_at) = '2013' AND (account_id NOT IN cte.account_id)"
   ]
  },
  {
   "cell_type": "code",
   "execution_count": 141,
   "id": "88efa01f",
   "metadata": {},
   "outputs": [
    {
     "name": "stdout",
     "output_type": "stream",
     "text": [
      " * sqlite:///pandp.db\n",
      "(sqlite3.OperationalError) no such table: cte.account_id\n",
      "[SQL: WITH cte AS (\n",
      "    SELECT DISTINCT account_id FROM orders WHERE STRFTIME('%Y', occurred_at) != '2013'\n",
      ")\n",
      "SELECT *\n",
      "FROM cte\n",
      "JOIN orders o\n",
      "ON cte.account_id = o.account_id\n",
      "WHERE STRFTIME('%Y', o.occurred_at) = '2013' AND (account_id NOT IN cte.account_id);]\n",
      "(Background on this error at: https://sqlalche.me/e/14/e3q8)\n"
     ]
    }
   ],
   "source": [
    "%%sql\n",
    "\n",
    "WITH cte AS (\n",
    "    SELECT DISTINCT account_id FROM orders WHERE STRFTIME('%Y', occurred_at) != '2013'\n",
    ")\n",
    "SELECT *\n",
    "FROM cte\n",
    "JOIN orders o\n",
    "ON cte.account_id = o.account_id\n",
    "WHERE STRFTIME('%Y', o.occurred_at) = '2013' AND (account_id NOT IN cte.account_id);\n"
   ]
  },
  {
   "cell_type": "code",
   "execution_count": 119,
   "id": "55901f61",
   "metadata": {},
   "outputs": [
    {
     "name": "stdout",
     "output_type": "stream",
     "text": [
      " * sqlite:///pandp.db\n",
      "Done.\n"
     ]
    },
    {
     "data": {
      "text/html": [
       "<table>\n",
       "    <tr>\n",
       "        <th>COUNT(DISTINCT account_id)</th>\n",
       "    </tr>\n",
       "    <tr>\n",
       "        <td>349</td>\n",
       "    </tr>\n",
       "</table>"
      ],
      "text/plain": [
       "[(349,)]"
      ]
     },
     "execution_count": 119,
     "metadata": {},
     "output_type": "execute_result"
    }
   ],
   "source": [
    "%%sql\n",
    "SELECT COUNT(DISTINCT account_id)\n",
    "FROM orders \n",
    "WHERE STRFTIME('%Y', occurred_at) != '2013'"
   ]
  },
  {
   "cell_type": "markdown",
   "id": "5bc3e03e",
   "metadata": {},
   "source": [
    "**Segementation**"
   ]
  },
  {
   "cell_type": "code",
   "execution_count": 267,
   "id": "bd3ca5c8",
   "metadata": {},
   "outputs": [
    {
     "name": "stdout",
     "output_type": "stream",
     "text": [
      " * sqlite:///pandp.db\n",
      "Done.\n"
     ]
    },
    {
     "data": {
      "text/html": [
       "<table>\n",
       "    <tr>\n",
       "        <th>account_id</th>\n",
       "        <th>total_purchase</th>\n",
       "    </tr>\n",
       "    <tr>\n",
       "        <td>1001</td>\n",
       "        <td>124014.87</td>\n",
       "    </tr>\n",
       "    <tr>\n",
       "        <td>1011</td>\n",
       "        <td>2734.59</td>\n",
       "    </tr>\n",
       "    <tr>\n",
       "        <td>1021</td>\n",
       "        <td>20767.15</td>\n",
       "    </tr>\n",
       "    <tr>\n",
       "        <td>1031</td>\n",
       "        <td>7474.32</td>\n",
       "    </tr>\n",
       "    <tr>\n",
       "        <td>1041</td>\n",
       "        <td>15184.46</td>\n",
       "    </tr>\n",
       "</table>"
      ],
      "text/plain": [
       "[(1001, 124014.87),\n",
       " (1011, 2734.59),\n",
       " (1021, 20767.15),\n",
       " (1031, 7474.32),\n",
       " (1041, 15184.46)]"
      ]
     },
     "execution_count": 267,
     "metadata": {},
     "output_type": "execute_result"
    }
   ],
   "source": [
    "%%sql\n",
    "SELECT account_id, ROUND(SUM(total_amt_usd), 2) total_purchase\n",
    "FROM orders\n",
    "GROUP BY 1\n",
    "LIMIT 5;"
   ]
  },
  {
   "cell_type": "code",
   "execution_count": 268,
   "id": "495cc5d1",
   "metadata": {},
   "outputs": [
    {
     "name": "stdout",
     "output_type": "stream",
     "text": [
      " * sqlite:///pandp.db\n",
      "Done.\n"
     ]
    }
   ],
   "source": [
    "segement_qry = %sql SELECT account_id, ROUND(SUM(total_amt_usd), 2) total_purchase FROM orders GROUP BY 1\n",
    "segment_df = segement_qry.DataFrame()"
   ]
  },
  {
   "cell_type": "code",
   "execution_count": 269,
   "id": "ae44bcd7",
   "metadata": {},
   "outputs": [
    {
     "data": {
      "text/html": [
       "<div>\n",
       "<style scoped>\n",
       "    .dataframe tbody tr th:only-of-type {\n",
       "        vertical-align: middle;\n",
       "    }\n",
       "\n",
       "    .dataframe tbody tr th {\n",
       "        vertical-align: top;\n",
       "    }\n",
       "\n",
       "    .dataframe thead th {\n",
       "        text-align: right;\n",
       "    }\n",
       "</style>\n",
       "<table border=\"1\" class=\"dataframe\">\n",
       "  <thead>\n",
       "    <tr style=\"text-align: right;\">\n",
       "      <th></th>\n",
       "      <th>account_id</th>\n",
       "      <th>total_purchase</th>\n",
       "    </tr>\n",
       "  </thead>\n",
       "  <tbody>\n",
       "    <tr>\n",
       "      <th>count</th>\n",
       "      <td>350.000000</td>\n",
       "      <td>350.000000</td>\n",
       "    </tr>\n",
       "    <tr>\n",
       "      <th>mean</th>\n",
       "      <td>2753.914286</td>\n",
       "      <td>66118.605229</td>\n",
       "    </tr>\n",
       "    <tr>\n",
       "      <th>std</th>\n",
       "      <td>1014.672626</td>\n",
       "      <td>71299.263574</td>\n",
       "    </tr>\n",
       "    <tr>\n",
       "      <th>min</th>\n",
       "      <td>1001.000000</td>\n",
       "      <td>390.250000</td>\n",
       "    </tr>\n",
       "    <tr>\n",
       "      <th>20%</th>\n",
       "      <td>1699.000000</td>\n",
       "      <td>11450.198000</td>\n",
       "    </tr>\n",
       "    <tr>\n",
       "      <th>40%</th>\n",
       "      <td>2407.000000</td>\n",
       "      <td>27364.832000</td>\n",
       "    </tr>\n",
       "    <tr>\n",
       "      <th>50%</th>\n",
       "      <td>2756.000000</td>\n",
       "      <td>38337.055000</td>\n",
       "    </tr>\n",
       "    <tr>\n",
       "      <th>60%</th>\n",
       "      <td>3105.000000</td>\n",
       "      <td>54832.256000</td>\n",
       "    </tr>\n",
       "    <tr>\n",
       "      <th>80%</th>\n",
       "      <td>3803.000000</td>\n",
       "      <td>118938.526000</td>\n",
       "    </tr>\n",
       "    <tr>\n",
       "      <th>90%</th>\n",
       "      <td>4152.000000</td>\n",
       "      <td>156676.340000</td>\n",
       "    </tr>\n",
       "    <tr>\n",
       "      <th>max</th>\n",
       "      <td>4501.000000</td>\n",
       "      <td>382873.300000</td>\n",
       "    </tr>\n",
       "  </tbody>\n",
       "</table>\n",
       "</div>"
      ],
      "text/plain": [
       "        account_id  total_purchase\n",
       "count   350.000000      350.000000\n",
       "mean   2753.914286    66118.605229\n",
       "std    1014.672626    71299.263574\n",
       "min    1001.000000      390.250000\n",
       "20%    1699.000000    11450.198000\n",
       "40%    2407.000000    27364.832000\n",
       "50%    2756.000000    38337.055000\n",
       "60%    3105.000000    54832.256000\n",
       "80%    3803.000000   118938.526000\n",
       "90%    4152.000000   156676.340000\n",
       "max    4501.000000   382873.300000"
      ]
     },
     "execution_count": 269,
     "metadata": {},
     "output_type": "execute_result"
    }
   ],
   "source": [
    "segment_df.describe(percentiles=[0.2, 0.4, 0.6, 0.8, 0.9])"
   ]
  },
  {
   "cell_type": "code",
   "execution_count": 270,
   "id": "16a03db3",
   "metadata": {},
   "outputs": [
    {
     "data": {
      "image/png": "[encoded data removed]",
      "text/plain": [
       "<Figure size 720x432 with 1 Axes>"
      ]
     },
     "metadata": {},
     "output_type": "display_data"
    }
   ],
   "source": [
    "# Create the plot\n",
    "plt.figure(figsize=(10, 6)) \n",
    "\n",
    "# Create the plot\n",
    "sns.histplot(data=segment_df, x='total_purchase')\n",
    "\n",
    "# Set the x-axis scale to log\n",
    "#plt.gca().set(xscale='log')\n",
    "\n",
    "# Show the plot\n",
    "plt.show()"
   ]
  },
  {
   "cell_type": "code",
   "execution_count": 271,
   "id": "e31a383e",
   "metadata": {},
   "outputs": [
    {
     "name": "stdout",
     "output_type": "stream",
     "text": [
      " * sqlite:///pandp.db\n",
      "Done.\n"
     ]
    },
    {
     "data": {
      "text/html": [
       "<table>\n",
       "    <tr>\n",
       "        <th>segment</th>\n",
       "        <th>count</th>\n",
       "    </tr>\n",
       "    <tr>\n",
       "        <td>Bronze</td>\n",
       "        <td>203</td>\n",
       "    </tr>\n",
       "    <tr>\n",
       "        <td>Silver</td>\n",
       "        <td>65</td>\n",
       "    </tr>\n",
       "    <tr>\n",
       "        <td>Gold</td>\n",
       "        <td>43</td>\n",
       "    </tr>\n",
       "    <tr>\n",
       "        <td>Platinum</td>\n",
       "        <td>39</td>\n",
       "    </tr>\n",
       "</table>"
      ],
      "text/plain": [
       "[('Bronze', 203), ('Silver', 65), ('Gold', 43), ('Platinum', 39)]"
      ]
     },
     "execution_count": 271,
     "metadata": {},
     "output_type": "execute_result"
    }
   ],
   "source": [
    "%%sql\n",
    "WITH cte1 AS (\n",
    "    SELECT account_id, \n",
    "           ROUND(SUM(total_amt_usd), 2) total_purchase\n",
    "    FROM orders\n",
    "    GROUP BY 1\n",
    "),\n",
    "cte2 AS (\n",
    "    SELECT account_id, \n",
    "           total_purchase,\n",
    "           CASE \n",
    "               WHEN total_purchase > 150000 THEN 'Platinum'\n",
    "               WHEN total_purchase > 100000 AND total_purchase <= 150000 THEN 'Gold'\n",
    "               WHEN total_purchase > 50000 AND total_purchase <= 100000 THEN 'Silver'\n",
    "               ELSE 'Bronze' END AS segment\n",
    "    FROM cte1\n",
    ")\n",
    "SELECT segment, COUNT(segment) count\n",
    "FROM cte2\n",
    "GROUP BY 1\n",
    "ORDER BY 2 DESC;\n"
   ]
  },
  {
   "cell_type": "code",
   "execution_count": 275,
   "id": "cc1da957",
   "metadata": {},
   "outputs": [
    {
     "data": {
      "text/html": [
       "<div>\n",
       "<style scoped>\n",
       "    .dataframe tbody tr th:only-of-type {\n",
       "        vertical-align: middle;\n",
       "    }\n",
       "\n",
       "    .dataframe tbody tr th {\n",
       "        vertical-align: top;\n",
       "    }\n",
       "\n",
       "    .dataframe thead th {\n",
       "        text-align: right;\n",
       "    }\n",
       "</style>\n",
       "<table border=\"1\" class=\"dataframe\">\n",
       "  <thead>\n",
       "    <tr style=\"text-align: right;\">\n",
       "      <th></th>\n",
       "      <th>segment</th>\n",
       "      <th>count</th>\n",
       "    </tr>\n",
       "  </thead>\n",
       "  <tbody>\n",
       "    <tr>\n",
       "      <th>0</th>\n",
       "      <td>Bronze</td>\n",
       "      <td>203</td>\n",
       "    </tr>\n",
       "    <tr>\n",
       "      <th>1</th>\n",
       "      <td>Silver</td>\n",
       "      <td>65</td>\n",
       "    </tr>\n",
       "    <tr>\n",
       "      <th>2</th>\n",
       "      <td>Gold</td>\n",
       "      <td>43</td>\n",
       "    </tr>\n",
       "    <tr>\n",
       "      <th>3</th>\n",
       "      <td>Platinum</td>\n",
       "      <td>39</td>\n",
       "    </tr>\n",
       "  </tbody>\n",
       "</table>\n",
       "</div>"
      ],
      "text/plain": [
       "    segment  count\n",
       "0    Bronze    203\n",
       "1    Silver     65\n",
       "2      Gold     43\n",
       "3  Platinum     39"
      ]
     },
     "execution_count": 275,
     "metadata": {},
     "output_type": "execute_result"
    }
   ],
   "source": [
    "# Collect segmentation query output in a dictionary\n",
    "segements = {'segment': ['Bronze', 'Silver', 'Gold', 'Platinum'], \n",
    "             'count': [203, 65, 43, 39]}\n",
    "# Create the DataFrame \n",
    "segements_df = pd.DataFrame(segements)\n",
    "segements_df"
   ]
  },
  {
   "cell_type": "code",
   "execution_count": 276,
   "id": "62a194c3",
   "metadata": {},
   "outputs": [
    {
     "data": {
      "image/png": "[encoded data removed]",
      "text/plain": [
       "<Figure size 432x288 with 1 Axes>"
      ]
     },
     "metadata": {},
     "output_type": "display_data"
    }
   ],
   "source": [
    "colour = '#3D0069'\n",
    "colours = [colour for i in range(len(channel_df)-1)]\n",
    "palette = ['red']\n",
    "palette.extend(colours)\n",
    "\n",
    "ax = sns.barplot(x='segment', y='count', data=segements_df, palette=palette)"
   ]
  },
  {
   "cell_type": "markdown",
   "id": "b80bb788",
   "metadata": {},
   "source": [
    "**Has any Platinum customer churn?**"
   ]
  },
  {
   "cell_type": "code",
   "execution_count": null,
   "id": "b2956ae5",
   "metadata": {},
   "outputs": [],
   "source": [
    "%%sql\n",
    "WITH cte AS (SELECT account_id , ROUND(SUM(total_amt_usd), 2) total\n",
    "FROM orders\n",
    "GROUP BY 1)\n",
    "\n",
    "SELECT *\n",
    "FROM cte\n",
    "JOIN orders o\n",
    "ON o.account_id = cte.account_id\n",
    "WHERE cte.total > 150000"
   ]
  },
  {
   "cell_type": "code",
   "execution_count": 290,
   "id": "c43e24ce",
   "metadata": {},
   "outputs": [
    {
     "ename": "SyntaxError",
     "evalue": "invalid syntax (1891646072.py, line 1)",
     "output_type": "error",
     "traceback": [
      "\u001b[1;36m  Input \u001b[1;32mIn [290]\u001b[1;36m\u001b[0m\n\u001b[1;33m    STRFTIME('%Y', occurred_at) year\u001b[0m\n\u001b[1;37m                                ^\u001b[0m\n\u001b[1;31mSyntaxError\u001b[0m\u001b[1;31m:\u001b[0m invalid syntax\n"
     ]
    }
   ],
   "source": [
    "STRFTIME('%Y', occurred_at) year"
   ]
  },
  {
   "cell_type": "markdown",
   "id": "c89d3ff4",
   "metadata": {},
   "source": [
    "### Channels"
   ]
  },
  {
   "cell_type": "markdown",
   "id": "7dc7bc3f",
   "metadata": {},
   "source": [
    "How many channels?"
   ]
  },
  {
   "cell_type": "code",
   "execution_count": 295,
   "id": "1c89c003",
   "metadata": {},
   "outputs": [
    {
     "name": "stdout",
     "output_type": "stream",
     "text": [
      " * sqlite:///pandp.db\n",
      "Done.\n"
     ]
    },
    {
     "data": {
      "text/html": [
       "<table>\n",
       "    <tr>\n",
       "        <th>number of channels</th>\n",
       "    </tr>\n",
       "    <tr>\n",
       "        <td>6</td>\n",
       "    </tr>\n",
       "</table>"
      ],
      "text/plain": [
       "[(6,)]"
      ]
     },
     "execution_count": 295,
     "metadata": {},
     "output_type": "execute_result"
    }
   ],
   "source": [
    "%%sql\n",
    "SELECT COUNT(DISTINCT channel) 'number of channels'\n",
    "FROM web_events"
   ]
  },
  {
   "cell_type": "markdown",
   "id": "74040bc9",
   "metadata": {},
   "source": [
    "**P&P** has 6 channels."
   ]
  },
  {
   "cell_type": "markdown",
   "id": "77755a25",
   "metadata": {},
   "source": [
    "Most profitable channel"
   ]
  },
  {
   "cell_type": "code",
   "execution_count": 179,
   "id": "456cceeb",
   "metadata": {},
   "outputs": [
    {
     "name": "stdout",
     "output_type": "stream",
     "text": [
      " * sqlite:///pandp.db\n",
      "Done.\n"
     ]
    },
    {
     "data": {
      "text/html": [
       "<table>\n",
       "    <tr>\n",
       "        <th>channel</th>\n",
       "        <th>total_sales_million_usd</th>\n",
       "    </tr>\n",
       "    <tr>\n",
       "        <td>direct</td>\n",
       "        <td>639.7</td>\n",
       "    </tr>\n",
       "    <tr>\n",
       "        <td>facebook</td>\n",
       "        <td>103.03</td>\n",
       "    </tr>\n",
       "    <tr>\n",
       "        <td>organic</td>\n",
       "        <td>102.05</td>\n",
       "    </tr>\n",
       "    <tr>\n",
       "        <td>adwords</td>\n",
       "        <td>97.78</td>\n",
       "    </tr>\n",
       "    <tr>\n",
       "        <td>twitter</td>\n",
       "        <td>50.67</td>\n",
       "    </tr>\n",
       "    <tr>\n",
       "        <td>banner</td>\n",
       "        <td>48.08</td>\n",
       "    </tr>\n",
       "</table>"
      ],
      "text/plain": [
       "[('direct', 639.7),\n",
       " ('facebook', 103.03),\n",
       " ('organic', 102.05),\n",
       " ('adwords', 97.78),\n",
       " ('twitter', 50.67),\n",
       " ('banner', 48.08)]"
      ]
     },
     "execution_count": 179,
     "metadata": {},
     "output_type": "execute_result"
    }
   ],
   "source": [
    "%%sql\n",
    "SELECT w.channel, ROUND(SUM(o.total_amt_usd/1e6), 2) total_sales_million_usd\n",
    "FROM orders o\n",
    "JOIN accounts a\n",
    "ON o.account_id = a.id\n",
    "JOIN web_events w\n",
    "ON w.account_id = a.id\n",
    "\n",
    "GROUP BY 1\n",
    "ORDER BY 2 DESC;"
   ]
  },
  {
   "cell_type": "code",
   "execution_count": 180,
   "id": "0bab095e",
   "metadata": {},
   "outputs": [
    {
     "name": "stdout",
     "output_type": "stream",
     "text": [
      " * sqlite:///pandp.db\n",
      "Done.\n"
     ]
    }
   ],
   "source": [
    "# create revenue by channel\n",
    "channel = %sql SELECT w.channel, ROUND(SUM(o.total_amt_usd/1e6), 2) total_sales_million_usd FROM orders o JOIN accounts a ON o.account_id = a.id JOIN web_events w ON w.account_id = a.id WHERE o.occurred_at GROUP BY 1 ORDER BY 2 DESC;\n",
    "channel_df = channel.DataFrame()"
   ]
  },
  {
   "cell_type": "code",
   "execution_count": 182,
   "id": "8ae0fb93",
   "metadata": {},
   "outputs": [
    {
     "data": {
      "image/png": "[encoded data removed]",
      "text/plain": [
       "<Figure size 432x288 with 1 Axes>"
      ]
     },
     "metadata": {},
     "output_type": "display_data"
    }
   ],
   "source": [
    "# Create a bar plot with the 'channel' column on the x-axis and the 'total_sales_million_usd' column on the y-axis\n",
    "# Define colour palette\n",
    "colour = '#3D0069'\n",
    "colours = [colour for i in range(len(channel_df)-1)]\n",
    "palette = ['red']\n",
    "palette.extend(colours)\n",
    "\n",
    "ax = sns.barplot(x='channel', y='total_sales_million_usd', data=channel_df, palette=palette)\n",
    "\n",
    "# Set the x-axis label to 'Channels'\n",
    "ax.set_xlabel('Channels')\n",
    "\n",
    "# Set the y-axis label to 'Total sales in million USD'\n",
    "ax.set_ylabel('Total sales in million USD')\n",
    "\n",
    "# Set the title to 'Revenue by channel'\n",
    "ax.set_title('Sales by channels');\n"
   ]
  },
  {
   "cell_type": "markdown",
   "id": "8f5081bb",
   "metadata": {},
   "source": [
    "The amount of sales recorded via the direct channel is more than what all the remaining channels made combined."
   ]
  },
  {
   "cell_type": "markdown",
   "id": "7729f75d",
   "metadata": {},
   "source": [
    "**Regions**"
   ]
  },
  {
   "cell_type": "markdown",
   "id": "aa21f6ee",
   "metadata": {},
   "source": [
    "How many regions?"
   ]
  },
  {
   "cell_type": "code",
   "execution_count": 304,
   "id": "d5394e8a",
   "metadata": {},
   "outputs": [
    {
     "name": "stdout",
     "output_type": "stream",
     "text": [
      " * sqlite:///pandp.db\n",
      "Done.\n"
     ]
    },
    {
     "data": {
      "text/html": [
       "<table>\n",
       "    <tr>\n",
       "        <th>number_of_regions</th>\n",
       "    </tr>\n",
       "    <tr>\n",
       "        <td>4</td>\n",
       "    </tr>\n",
       "</table>"
      ],
      "text/plain": [
       "[(4,)]"
      ]
     },
     "execution_count": 304,
     "metadata": {},
     "output_type": "execute_result"
    }
   ],
   "source": [
    "%%sql\n",
    "SELECT COUNT(DISTINCT name) 'number_of_regions'\n",
    "FROM region"
   ]
  },
  {
   "cell_type": "markdown",
   "id": "f292e820",
   "metadata": {},
   "source": [
    "**P&P** operates in four regions."
   ]
  },
  {
   "cell_type": "markdown",
   "id": "5c2f2310",
   "metadata": {},
   "source": [
    "Proportional contributions by regions"
   ]
  },
  {
   "cell_type": "code",
   "execution_count": 187,
   "id": "84be1b35",
   "metadata": {},
   "outputs": [
    {
     "name": "stdout",
     "output_type": "stream",
     "text": [
      " * sqlite:///pandp.db\n",
      "Done.\n"
     ]
    },
    {
     "data": {
      "text/html": [
       "<table>\n",
       "    <tr>\n",
       "        <th>name</th>\n",
       "        <th>total_purchase</th>\n",
       "    </tr>\n",
       "    <tr>\n",
       "        <td>Northeast</td>\n",
       "        <td>7744405.36</td>\n",
       "    </tr>\n",
       "    <tr>\n",
       "        <td>Southeast</td>\n",
       "        <td>6458497.0</td>\n",
       "    </tr>\n",
       "    <tr>\n",
       "        <td>West</td>\n",
       "        <td>5925122.96</td>\n",
       "    </tr>\n",
       "    <tr>\n",
       "        <td>Midwest</td>\n",
       "        <td>3013486.51</td>\n",
       "    </tr>\n",
       "</table>"
      ],
      "text/plain": [
       "[('Northeast', 7744405.36),\n",
       " ('Southeast', 6458497.0),\n",
       " ('West', 5925122.96),\n",
       " ('Midwest', 3013486.51)]"
      ]
     },
     "execution_count": 187,
     "metadata": {},
     "output_type": "execute_result"
    }
   ],
   "source": [
    "%%sql\n",
    "SELECT r.name, ROUND(SUM(o.total_amt_usd), 2) total_purchase\n",
    "FROM region r\n",
    "JOIN sales_reps s\n",
    "ON r.id = s.region_id\n",
    "JOIN accounts a\n",
    "ON s.id = a.sales_rep_id\n",
    "JOIN orders o\n",
    "ON a.id = o.account_id\n",
    "GROUP BY 1\n",
    "ORDER BY 2 DESC"
   ]
  },
  {
   "cell_type": "code",
   "execution_count": 305,
   "id": "4ed011e0",
   "metadata": {},
   "outputs": [
    {
     "data": {
      "text/html": [
       "<div>\n",
       "<style scoped>\n",
       "    .dataframe tbody tr th:only-of-type {\n",
       "        vertical-align: middle;\n",
       "    }\n",
       "\n",
       "    .dataframe tbody tr th {\n",
       "        vertical-align: top;\n",
       "    }\n",
       "\n",
       "    .dataframe thead th {\n",
       "        text-align: right;\n",
       "    }\n",
       "</style>\n",
       "<table border=\"1\" class=\"dataframe\">\n",
       "  <thead>\n",
       "    <tr style=\"text-align: right;\">\n",
       "      <th></th>\n",
       "      <th>name</th>\n",
       "      <th>total_purchase</th>\n",
       "    </tr>\n",
       "  </thead>\n",
       "  <tbody>\n",
       "    <tr>\n",
       "      <th>0</th>\n",
       "      <td>Northeast</td>\n",
       "      <td>7744405.36</td>\n",
       "    </tr>\n",
       "    <tr>\n",
       "      <th>1</th>\n",
       "      <td>Southeast</td>\n",
       "      <td>6458497.00</td>\n",
       "    </tr>\n",
       "    <tr>\n",
       "      <th>2</th>\n",
       "      <td>West</td>\n",
       "      <td>5925122.96</td>\n",
       "    </tr>\n",
       "    <tr>\n",
       "      <th>3</th>\n",
       "      <td>Midwest</td>\n",
       "      <td>3013486.51</td>\n",
       "    </tr>\n",
       "  </tbody>\n",
       "</table>\n",
       "</div>"
      ],
      "text/plain": [
       "        name  total_purchase\n",
       "0  Northeast      7744405.36\n",
       "1  Southeast      6458497.00\n",
       "2       West      5925122.96\n",
       "3    Midwest      3013486.51"
      ]
     },
     "execution_count": 305,
     "metadata": {},
     "output_type": "execute_result"
    }
   ],
   "source": [
    "regions = {'name': ['Northeast', 'Southeast', 'West', 'Midwest'], \n",
    "           'total_purchase': [7744405.36, 6458497.0, 5925122.96, 3013486.51]}\n",
    "regions_df = pd.DataFrame(regions)\n",
    "regions_df"
   ]
  },
  {
   "cell_type": "markdown",
   "id": "bf3e1831",
   "metadata": {},
   "source": [
    "**Graph**"
   ]
  },
  {
   "cell_type": "code",
   "execution_count": 317,
   "id": "89441c6e",
   "metadata": {},
   "outputs": [
    {
     "data": {
      "image/png": "[encoded data removed]",
      "text/plain": [
       "<Figure size 864x432 with 1 Axes>"
      ]
     },
     "metadata": {},
     "output_type": "display_data"
    }
   ],
   "source": [
    "# Create the plot\n",
    "plt.figure(figsize=(12, 6)) \n",
    "\n",
    "labels = regions_df['name']\n",
    "values = regions_df['total_purchase']\n",
    "\n",
    "# declaring exploding pie\n",
    "explode = [0.1, 0, 0, 0] \n",
    "# define Seaborn color palette to use\n",
    "palette_color = sns.color_palette('bright')\n",
    "\n",
    "# Create the pie chart\n",
    "plt.pie(x=values, labels=labels, colors=palette_color, explode = explode, autopct='%.0f%%')\n",
    "\n",
    "# Add a title\n",
    "plt.title('Contribution by regions')\n",
    "\n",
    "# Show the plot\n",
    "plt.show()"
   ]
  },
  {
   "cell_type": "markdown",
   "id": "9e9fc9ca",
   "metadata": {},
   "source": [
    "### Products"
   ]
  },
  {
   "cell_type": "markdown",
   "id": "4fc8075b",
   "metadata": {},
   "source": [
    "<div style=\"border: 5px solid #3D0069;\n",
    "    border-radius: 10px; text-align: center; font-size: 20px; font-family: 'Merriweather'; padding: 10px; background-color: #F5E8DA\">\n",
    "  <b>Products?</b>\n",
    "</div>"
   ]
  },
  {
   "cell_type": "markdown",
   "id": "5784b0b3",
   "metadata": {},
   "source": [
    "Total sales for all products"
   ]
  },
  {
   "cell_type": "code",
   "execution_count": 318,
   "id": "6a6b0a75",
   "metadata": {},
   "outputs": [
    {
     "name": "stdout",
     "output_type": "stream",
     "text": [
      " * sqlite:///pandp.db\n",
      "Done.\n"
     ]
    },
    {
     "data": {
      "text/html": [
       "<table>\n",
       "    <tr>\n",
       "        <th>total_standard_usd</th>\n",
       "        <th>total_gloss_usd</th>\n",
       "        <th>total_poster_usd</th>\n",
       "    </tr>\n",
       "    <tr>\n",
       "        <td>9.67</td>\n",
       "        <td>7.59</td>\n",
       "        <td>5.88</td>\n",
       "    </tr>\n",
       "</table>"
      ],
      "text/plain": [
       "[(9.67, 7.59, 5.88)]"
      ]
     },
     "execution_count": 318,
     "metadata": {},
     "output_type": "execute_result"
    }
   ],
   "source": [
    "%%sql\n",
    "SELECT ROUND(SUM(standard_amt_usd)/1e6, 2) total_standard_usd, \n",
    "ROUND(SUM(gloss_amt_usd)/1e6, 2) total_gloss_usd, \n",
    "ROUND(SUM(poster_amt_usd)/1e6, 2) total_poster_usd\n",
    "FROM orders"
   ]
  },
  {
   "cell_type": "markdown",
   "id": "d008e2f6",
   "metadata": {},
   "source": [
    "- Standard paper 9.67 million USD\n",
    "- Gloss paper 7.59 million USD\n",
    "- Poster paper 5.88 million USD"
   ]
  },
  {
   "cell_type": "markdown",
   "id": "dbac7048",
   "metadata": {},
   "source": [
    "***Proportional Contribution***"
   ]
  },
  {
   "cell_type": "code",
   "execution_count": 328,
   "id": "f406925f",
   "metadata": {},
   "outputs": [
    {
     "data": {
      "image/png": "[encoded data removed]",
      "text/plain": [
       "<Figure size 864x432 with 1 Axes>"
      ]
     },
     "metadata": {},
     "output_type": "display_data"
    }
   ],
   "source": [
    "# Create the plot\n",
    "plt.figure(figsize=(12, 6)) \n",
    "\n",
    "labels = ['Standard', 'Glosss', 'Poster']\n",
    "values = [9.67, 7.59, 5.88]\n",
    "\n",
    "# declaring exploding pie\n",
    "explode = [0.1, 0, 0] \n",
    "# define Seaborn color palette to use\n",
    "palette_color = sns.color_palette('bright')\n",
    "\n",
    "# Create the pie chart\n",
    "plt.pie(x=values, labels=labels, colors=palette_color, explode = explode, autopct='%.0f%%')\n",
    "\n",
    "# Add a title\n",
    "plt.title('Contribution by products')\n",
    "\n",
    "# Show the plot\n",
    "plt.show()"
   ]
  },
  {
   "cell_type": "markdown",
   "id": "da0e3549",
   "metadata": {},
   "source": [
    "- **Monthly average number of orders year 2016**"
   ]
  },
  {
   "cell_type": "code",
   "execution_count": 206,
   "id": "e4427812",
   "metadata": {},
   "outputs": [
    {
     "name": "stdout",
     "output_type": "stream",
     "text": [
      " * sqlite:///pandp.db\n",
      "Done.\n"
     ]
    },
    {
     "data": {
      "text/html": [
       "<table>\n",
       "    <tr>\n",
       "        <th>avg_standard_qty</th>\n",
       "        <th>avg_gloss_qty</th>\n",
       "        <th>avg_poster_qty</th>\n",
       "    </tr>\n",
       "    <tr>\n",
       "        <td>89563.0</td>\n",
       "        <td>46151.0</td>\n",
       "        <td>34420.0</td>\n",
       "    </tr>\n",
       "</table>"
      ],
      "text/plain": [
       "[(89563.0, 46151.0, 34420.0)]"
      ]
     },
     "execution_count": 206,
     "metadata": {},
     "output_type": "execute_result"
    }
   ],
   "source": [
    "%%sql\n",
    "WITH cte AS (SELECT STRFTIME('%m', occurred_at) month, \n",
    "        SUM(standard_qty) total_standard_qty,\n",
    "        SUM(gloss_qty) total_gloss_qty,\n",
    "        SUM(poster_qty) total_poster_qty\n",
    "FROM orders\n",
    "WHERE occurred_at BETWEEN '2016-01-01' AND '2017-01-01'\n",
    "GROUP BY 1)\n",
    "\n",
    "SELECT ROUND(AVG(total_standard_qty)) avg_standard_qty,\n",
    "        ROUND(AVG(total_gloss_qty)) avg_gloss_qty,\n",
    "        ROUND(AVG(total_poster_qty)) avg_poster_qty\n",
    "FROM cte"
   ]
  },
  {
   "cell_type": "markdown",
   "id": "7322c89d",
   "metadata": {},
   "source": [
    "The average orders for each paper is given in the following table\n",
    "\n",
    "| Paper Type| Count | \n",
    "|----------|----------|\n",
    "| Standard  | 89563    |\n",
    "| Gloss  | 46151     |\n",
    "|Poster| 34420   |\n"
   ]
  },
  {
   "cell_type": "markdown",
   "id": "a6113576",
   "metadata": {},
   "source": [
    "The average order of standard paper in 2016 is 89 thousand, gloss is 46 thousand and poster is 34 thousand."
   ]
  },
  {
   "cell_type": "markdown",
   "id": "6886ed10",
   "metadata": {},
   "source": [
    "- **Monthly Max and min year 2016**"
   ]
  },
  {
   "cell_type": "code",
   "execution_count": 205,
   "id": "6dd9a4bb",
   "metadata": {},
   "outputs": [
    {
     "name": "stdout",
     "output_type": "stream",
     "text": [
      " * sqlite:///pandp.db\n",
      "Done.\n"
     ]
    },
    {
     "data": {
      "text/html": [
       "<table>\n",
       "    <tr>\n",
       "        <th>max_standard_qty</th>\n",
       "        <th>max_gloss_qty</th>\n",
       "        <th>max_poster_qty</th>\n",
       "    </tr>\n",
       "    <tr>\n",
       "        <td>123997</td>\n",
       "        <td>67667</td>\n",
       "        <td>79398</td>\n",
       "    </tr>\n",
       "</table>"
      ],
      "text/plain": [
       "[(123997, 67667, 79398)]"
      ]
     },
     "execution_count": 205,
     "metadata": {},
     "output_type": "execute_result"
    }
   ],
   "source": [
    "%%sql\n",
    "WITH cte AS (SELECT STRFTIME('%m', occurred_at) month, \n",
    "        SUM(standard_qty) total_standard_qty,\n",
    "        SUM(gloss_qty) total_gloss_qty,\n",
    "        SUM(poster_qty) total_poster_qty\n",
    "FROM orders\n",
    "WHERE occurred_at BETWEEN '2016-01-01' AND '2017-01-01'\n",
    "GROUP BY 1)\n",
    "\n",
    "SELECT MAX(total_standard_qty) max_standard_qty,\n",
    "        MAX(total_gloss_qty) max_gloss_qty,\n",
    "        MAX(total_poster_qty) max_poster_qty\n",
    "FROM cte"
   ]
  },
  {
   "cell_type": "markdown",
   "id": "47a08dc4",
   "metadata": {},
   "source": [
    "Standard paper has a maximum monthly order of 123 thousand, gloss has a maximum order of 67 thousand and poster has a maximum order of 79 thousand in 2016."
   ]
  },
  {
   "cell_type": "code",
   "execution_count": 207,
   "id": "cd5767f5",
   "metadata": {
    "scrolled": true
   },
   "outputs": [
    {
     "name": "stdout",
     "output_type": "stream",
     "text": [
      " * sqlite:///pandp.db\n",
      "Done.\n"
     ]
    },
    {
     "data": {
      "text/html": [
       "<table>\n",
       "    <tr>\n",
       "        <th>min_standard_qty</th>\n",
       "        <th>min_gloss_qty</th>\n",
       "        <th>min_poster_qty</th>\n",
       "    </tr>\n",
       "    <tr>\n",
       "        <td>56022</td>\n",
       "        <td>27765</td>\n",
       "        <td>16358</td>\n",
       "    </tr>\n",
       "</table>"
      ],
      "text/plain": [
       "[(56022, 27765, 16358)]"
      ]
     },
     "execution_count": 207,
     "metadata": {},
     "output_type": "execute_result"
    }
   ],
   "source": [
    "%%sql\n",
    "WITH cte AS (SELECT STRFTIME('%m', occurred_at) month, \n",
    "        SUM(standard_qty) total_standard_qty,\n",
    "        SUM(gloss_qty) total_gloss_qty,\n",
    "        SUM(poster_qty) total_poster_qty\n",
    "FROM orders\n",
    "WHERE occurred_at BETWEEN '2016-01-01' AND '2017-01-01'\n",
    "GROUP BY 1)\n",
    "\n",
    "SELECT MIN(total_standard_qty) min_standard_qty,\n",
    "        MIN(total_gloss_qty) min_gloss_qty,\n",
    "        MIN(total_poster_qty) min_poster_qty\n",
    "FROM cte"
   ]
  },
  {
   "cell_type": "markdown",
   "id": "4ab282ee",
   "metadata": {},
   "source": [
    "Standard paper has a minimum monthly order of 56 thousand, gloss has a minimum order of 27 thousand and poster has a minimum order of 16 thousand in 2016."
   ]
  },
  {
   "cell_type": "markdown",
   "id": "cebf9742",
   "metadata": {},
   "source": [
    "<div style=\"border: 5px solid #6f00ff;\n",
    "    border-radius: 20px; text-align: center; font-size: 20px; font-family: 'Merriweather'; padding: 16px 0; background-color: #F5E8DA\">\n",
    "  <b>Which orders contain only standard paper with a quantity greater than 1000?<b>\n",
    "</div>"
   ]
  },
  {
   "cell_type": "code",
   "execution_count": 37,
   "id": "1f98ec0a",
   "metadata": {},
   "outputs": [
    {
     "name": "stdout",
     "output_type": "stream",
     "text": [
      " * sqlite:///pandp.db\n",
      "Done.\n"
     ]
    },
    {
     "data": {
      "text/html": [
       "<table>\n",
       "    <tr>\n",
       "        <th>id</th>\n",
       "        <th>account_id</th>\n",
       "        <th>occurred_at</th>\n",
       "        <th>standard_qty</th>\n",
       "        <th>gloss_qty</th>\n",
       "        <th>poster_qty</th>\n",
       "        <th>total</th>\n",
       "        <th>standard_amt_usd</th>\n",
       "        <th>gloss_amt_usd</th>\n",
       "        <th>poster_amt_usd</th>\n",
       "        <th>total_amt_usd</th>\n",
       "    </tr>\n",
       "    <tr>\n",
       "        <td>2613</td>\n",
       "        <td>2951</td>\n",
       "        <td>2016-08-15 00:06:12</td>\n",
       "        <td>1171</td>\n",
       "        <td>0</td>\n",
       "        <td>0</td>\n",
       "        <td>1171</td>\n",
       "        <td>5843.29</td>\n",
       "        <td>0</td>\n",
       "        <td>0</td>\n",
       "        <td>5843.29</td>\n",
       "    </tr>\n",
       "    <tr>\n",
       "        <td>3260</td>\n",
       "        <td>3491</td>\n",
       "        <td>2014-08-29 22:43:00</td>\n",
       "        <td>1552</td>\n",
       "        <td>0</td>\n",
       "        <td>0</td>\n",
       "        <td>1552</td>\n",
       "        <td>7744.48</td>\n",
       "        <td>0</td>\n",
       "        <td>0</td>\n",
       "        <td>7744.48</td>\n",
       "    </tr>\n",
       "</table>"
      ],
      "text/plain": [
       "[(2613, 2951, '2016-08-15 00:06:12', 1171, 0, 0, 1171, 5843.29, 0, 0, 5843.29),\n",
       " (3260, 3491, '2014-08-29 22:43:00', 1552, 0, 0, 1552, 7744.48, 0, 0, 7744.48)]"
      ]
     },
     "execution_count": 37,
     "metadata": {},
     "output_type": "execute_result"
    }
   ],
   "source": [
    "%%sql\n",
    "SELECT *\n",
    "FROM orders\n",
    "WHERE standard_qty > 1000 AND poster_qty = 0 AND gloss_qty = 0;"
   ]
  },
  {
   "cell_type": "markdown",
   "id": "54337dd2",
   "metadata": {},
   "source": [
    "**GROWTH**\n",
    "\n",
    "- Running totals\n",
    "- That comparison chart\n",
    "- Annual growth rates comparison"
   ]
  },
  {
   "cell_type": "markdown",
   "id": "ceecea79",
   "metadata": {},
   "source": [
    "The preschool's enrollment numbers for the past four years are:\n",
    "\n",
    "350 in 2016\n",
    "390 in 2017\n",
    "402 in 2018\n",
    "489 in 2019\n",
    "You can use the average growth rate over time calculation method to find the average annual growth rate for the preschool. In this example, the present value is 489, the past value is 328 and the number of years is 4:\n",
    "\n",
    "Growth rate after 2016: (390 - 350) / 350 x 100 = 11.43%\n",
    "Growth rate after 2017: (402 - 390) / 390 x 100 = 3.08%\n",
    "Growth rate after 2018: (489 - 402) / 402 x 100 = 21.64%\n",
    "Average growth rate over time = (11.43% + 3.08% + 21.64%) / 3 = 12.05% per year"
   ]
  },
  {
   "cell_type": "code",
   "execution_count": null,
   "id": "24764eeb",
   "metadata": {},
   "outputs": [],
   "source": [
    "100*(current - lag)/lag"
   ]
  },
  {
   "cell_type": "code",
   "execution_count": 241,
   "id": "5210eaa6",
   "metadata": {},
   "outputs": [
    {
     "name": "stdout",
     "output_type": "stream",
     "text": [
      " * sqlite:///pandp.db\n",
      "Done.\n"
     ]
    },
    {
     "data": {
      "text/html": [
       "<table>\n",
       "    <tr>\n",
       "        <th>year</th>\n",
       "        <th>annual_amt_usd</th>\n",
       "        <th>lag</th>\n",
       "        <th>growth_rate</th>\n",
       "    </tr>\n",
       "    <tr>\n",
       "        <td>2014</td>\n",
       "        <td>4069106.54</td>\n",
       "        <td>None</td>\n",
       "        <td>None</td>\n",
       "    </tr>\n",
       "    <tr>\n",
       "        <td>2015</td>\n",
       "        <td>5752004.94</td>\n",
       "        <td>4069106.54</td>\n",
       "        <td>41.36</td>\n",
       "    </tr>\n",
       "    <tr>\n",
       "        <td>2016</td>\n",
       "        <td>12864917.92</td>\n",
       "        <td>5752004.94</td>\n",
       "        <td>123.66</td>\n",
       "    </tr>\n",
       "</table>"
      ],
      "text/plain": [
       "[('2014', 4069106.54, None, None),\n",
       " ('2015', 5752004.94, 4069106.54, 41.36),\n",
       " ('2016', 12864917.92, 5752004.94, 123.66)]"
      ]
     },
     "execution_count": 241,
     "metadata": {},
     "output_type": "execute_result"
    }
   ],
   "source": [
    "%%sql\n",
    "WITH cte AS (SELECT STRFTIME('%Y', occurred_at) year, ROUND(SUM(total_amt_usd),2) annual_amt_usd\n",
    "FROM orders\n",
    "GROUP BY 1\n",
    "ORDER BY 1)\n",
    "\n",
    "SELECT  year, \n",
    "        annual_amt_usd, \n",
    "        LAG(annual_amt_usd) OVER (ORDER BY year) AS lag,\n",
    "        ROUND(100*(annual_amt_usd - LAG(annual_amt_usd) OVER (ORDER BY year))/LAG(annual_amt_usd) OVER (ORDER BY year), 2) AS growth_rate\n",
    "FROM cte\n",
    "WHERE year NOT IN ('2013', '2017')"
   ]
  },
  {
   "cell_type": "code",
   "execution_count": null,
   "id": "28878d6a",
   "metadata": {},
   "outputs": [],
   "source": []
  },
  {
   "cell_type": "code",
   "execution_count": null,
   "id": "f9d05448",
   "metadata": {},
   "outputs": [],
   "source": []
  },
  {
   "cell_type": "markdown",
   "id": "b848b1c5",
   "metadata": {},
   "source": [
    "<div style=\"border: 5px solid #6f00ff;\n",
    "    border-radius: 20px; text-align: center; font-size: 20px; font-family: 'Merriweather'; padding: 16px 0; background-color: #F5E8DA\">\n",
    "  <b>Comparing 2016 to 2015, how did sales fare?</b>\n",
    "</div>"
   ]
  },
  {
   "cell_type": "code",
   "execution_count": 247,
   "id": "5fdd902b",
   "metadata": {},
   "outputs": [
    {
     "name": "stdout",
     "output_type": "stream",
     "text": [
      " * sqlite:///pandp.db\n",
      "Done.\n"
     ]
    },
    {
     "data": {
      "text/html": [
       "<table>\n",
       "    <tr>\n",
       "        <th>years</th>\n",
       "        <th>months</th>\n",
       "        <th>total_sales</th>\n",
       "    </tr>\n",
       "    <tr>\n",
       "        <td>2015 01</td>\n",
       "        <td>01</td>\n",
       "        <td>347804.3</td>\n",
       "    </tr>\n",
       "    <tr>\n",
       "        <td>2015 02</td>\n",
       "        <td>02</td>\n",
       "        <td>333688.01</td>\n",
       "    </tr>\n",
       "    <tr>\n",
       "        <td>2015 03</td>\n",
       "        <td>03</td>\n",
       "        <td>519403.4</td>\n",
       "    </tr>\n",
       "    <tr>\n",
       "        <td>2015 04</td>\n",
       "        <td>04</td>\n",
       "        <td>451753.57</td>\n",
       "    </tr>\n",
       "    <tr>\n",
       "        <td>2015 05</td>\n",
       "        <td>05</td>\n",
       "        <td>390830.84</td>\n",
       "    </tr>\n",
       "    <tr>\n",
       "        <td>2015 06</td>\n",
       "        <td>06</td>\n",
       "        <td>420906.13</td>\n",
       "    </tr>\n",
       "    <tr>\n",
       "        <td>2015 07</td>\n",
       "        <td>07</td>\n",
       "        <td>461895.49</td>\n",
       "    </tr>\n",
       "    <tr>\n",
       "        <td>2015 08</td>\n",
       "        <td>08</td>\n",
       "        <td>463754.33</td>\n",
       "    </tr>\n",
       "    <tr>\n",
       "        <td>2015 09</td>\n",
       "        <td>09</td>\n",
       "        <td>510848.57</td>\n",
       "    </tr>\n",
       "    <tr>\n",
       "        <td>2015 10</td>\n",
       "        <td>10</td>\n",
       "        <td>554190.81</td>\n",
       "    </tr>\n",
       "    <tr>\n",
       "        <td>2015 11</td>\n",
       "        <td>11</td>\n",
       "        <td>682094.25</td>\n",
       "    </tr>\n",
       "    <tr>\n",
       "        <td>2015 12</td>\n",
       "        <td>12</td>\n",
       "        <td>614835.24</td>\n",
       "    </tr>\n",
       "    <tr>\n",
       "        <td>2016 01</td>\n",
       "        <td>01</td>\n",
       "        <td>625565.87</td>\n",
       "    </tr>\n",
       "    <tr>\n",
       "        <td>2016 02</td>\n",
       "        <td>02</td>\n",
       "        <td>629207.29</td>\n",
       "    </tr>\n",
       "    <tr>\n",
       "        <td>2016 03</td>\n",
       "        <td>03</td>\n",
       "        <td>799072.16</td>\n",
       "    </tr>\n",
       "    <tr>\n",
       "        <td>2016 04</td>\n",
       "        <td>04</td>\n",
       "        <td>765390.18</td>\n",
       "    </tr>\n",
       "    <tr>\n",
       "        <td>2016 05</td>\n",
       "        <td>05</td>\n",
       "        <td>827040.99</td>\n",
       "    </tr>\n",
       "    <tr>\n",
       "        <td>2016 06</td>\n",
       "        <td>06</td>\n",
       "        <td>1152556.74</td>\n",
       "    </tr>\n",
       "    <tr>\n",
       "        <td>2016 07</td>\n",
       "        <td>07</td>\n",
       "        <td>1227707.47</td>\n",
       "    </tr>\n",
       "    <tr>\n",
       "        <td>2016 08</td>\n",
       "        <td>08</td>\n",
       "        <td>1087667.48</td>\n",
       "    </tr>\n",
       "    <tr>\n",
       "        <td>2016 09</td>\n",
       "        <td>09</td>\n",
       "        <td>1206399.93</td>\n",
       "    </tr>\n",
       "    <tr>\n",
       "        <td>2016 10</td>\n",
       "        <td>10</td>\n",
       "        <td>1377981.57</td>\n",
       "    </tr>\n",
       "    <tr>\n",
       "        <td>2016 11</td>\n",
       "        <td>11</td>\n",
       "        <td>1396045.62</td>\n",
       "    </tr>\n",
       "    <tr>\n",
       "        <td>2016 12</td>\n",
       "        <td>12</td>\n",
       "        <td>1770282.62</td>\n",
       "    </tr>\n",
       "</table>"
      ],
      "text/plain": [
       "[('2015 01', '01', 347804.3),\n",
       " ('2015 02', '02', 333688.01),\n",
       " ('2015 03', '03', 519403.4),\n",
       " ('2015 04', '04', 451753.57),\n",
       " ('2015 05', '05', 390830.84),\n",
       " ('2015 06', '06', 420906.13),\n",
       " ('2015 07', '07', 461895.49),\n",
       " ('2015 08', '08', 463754.33),\n",
       " ('2015 09', '09', 510848.57),\n",
       " ('2015 10', '10', 554190.81),\n",
       " ('2015 11', '11', 682094.25),\n",
       " ('2015 12', '12', 614835.24),\n",
       " ('2016 01', '01', 625565.87),\n",
       " ('2016 02', '02', 629207.29),\n",
       " ('2016 03', '03', 799072.16),\n",
       " ('2016 04', '04', 765390.18),\n",
       " ('2016 05', '05', 827040.99),\n",
       " ('2016 06', '06', 1152556.74),\n",
       " ('2016 07', '07', 1227707.47),\n",
       " ('2016 08', '08', 1087667.48),\n",
       " ('2016 09', '09', 1206399.93),\n",
       " ('2016 10', '10', 1377981.57),\n",
       " ('2016 11', '11', 1396045.62),\n",
       " ('2016 12', '12', 1770282.62)]"
      ]
     },
     "execution_count": 247,
     "metadata": {},
     "output_type": "execute_result"
    }
   ],
   "source": [
    "%%sql\n",
    "SELECT strftime('%Y %m', occurred_at) years, strftime('%m', occurred_at) months, ROUND(SUM(total_amt_usd), 2) total_sales\n",
    "FROM orders\n",
    "WHERE occurred_at LIKE '2015%' OR occurred_at LIKE '2016%'\n",
    "GROUP BY 1"
   ]
  },
  {
   "cell_type": "code",
   "execution_count": 248,
   "id": "7756e0e1",
   "metadata": {},
   "outputs": [
    {
     "name": "stdout",
     "output_type": "stream",
     "text": [
      " * sqlite:///pandp.db\n",
      "Done.\n"
     ]
    }
   ],
   "source": [
    "total_sales_qry = %sql SELECT strftime('%Y %m', occurred_at) years, strftime('%m', occurred_at) months, ROUND(SUM(total_amt_usd), 2) average_sales FROM orders WHERE occurred_at LIKE '2015%' OR occurred_at LIKE '2016%' GROUP BY 1\n",
    "total_sales_df = total_sales_qry.DataFrame()"
   ]
  },
  {
   "cell_type": "code",
   "execution_count": 253,
   "id": "cb7f41d9",
   "metadata": {},
   "outputs": [
    {
     "data": {
      "text/plain": [
       "<AxesSubplot:xlabel='months', ylabel='month_over_month_change'>"
      ]
     },
     "execution_count": 253,
     "metadata": {},
     "output_type": "execute_result"
    },
    {
     "data": {
      "image/png": "[encoded data removed]",
      "text/plain": [
       "<Figure size 1080x432 with 1 Axes>"
      ]
     },
     "metadata": {},
     "output_type": "display_data"
    }
   ],
   "source": [
    "total_sales_df['month_over_month_change'] = total_sales_df['average_sales'] - total_sales_df['average_sales'].shift(12)\n",
    "# Set the figure size to 10 inches wide and 6 inches tall\n",
    "\n",
    "plt.figure(figsize=(15, 6))\n",
    "# Create a line plot with the year on the x-axis and the YoY change on the y-axis\n",
    "sns.lineplot(x='months', y='month_over_month_change', data=total_sales_df)"
   ]
  },
  {
   "cell_type": "markdown",
   "id": "bc749df1",
   "metadata": {},
   "source": [
    "- high variability\n",
    "- overall 2015 was better\n",
    "- seems no seasonality in the dataset\n",
    "- high volatility = high variability?"
   ]
  },
  {
   "cell_type": "code",
   "execution_count": null,
   "id": "27f6b593",
   "metadata": {},
   "outputs": [],
   "source": []
  },
  {
   "cell_type": "code",
   "execution_count": null,
   "id": "3fac38b3",
   "metadata": {},
   "outputs": [],
   "source": []
  },
  {
   "cell_type": "code",
   "execution_count": null,
   "id": "0adebcea",
   "metadata": {},
   "outputs": [],
   "source": []
  },
  {
   "cell_type": "code",
   "execution_count": null,
   "id": "38b238a8",
   "metadata": {},
   "outputs": [],
   "source": []
  },
  {
   "cell_type": "code",
   "execution_count": null,
   "id": "1a7e158d",
   "metadata": {},
   "outputs": [],
   "source": []
  },
  {
   "cell_type": "code",
   "execution_count": null,
   "id": "7693ebbc",
   "metadata": {},
   "outputs": [],
   "source": []
  },
  {
   "cell_type": "code",
   "execution_count": null,
   "id": "8050cb3e",
   "metadata": {},
   "outputs": [],
   "source": [
    "%%sql\n",
    "SELECT\n",
    "FROM"
   ]
  },
  {
   "cell_type": "markdown",
   "id": "f6bb116f",
   "metadata": {},
   "source": [
    "Sales persons\n",
    "- How many\n",
    "- Top 5 and Lowest 5?\n",
    "\n",
    "Cutomers\n",
    "- Count\n",
    "- Top 5 and lowest 5\n",
    "- Habits of top and low\n",
    "- New customers\n",
    "- Attrition\n",
    "- Customer segmentation based on their purchase: CASE, Know the distribution of the , Plot their distribution after segmenting \n",
    "\n",
    "\n",
    "\n",
    "\n",
    "Channels\n",
    "- Distribution \n",
    "- Trend\n",
    "- Regions\n",
    "- Top regions\n",
    "\n",
    "Products\n",
    "- Top product of all time\n",
    "- Trends for three years\n",
    "- MAX orders for all\n",
    "- MIN orders \n",
    "- Average orders\n",
    "- Distribution of orders \n",
    "\n",
    "\n",
    "\n",
    "\n",
    "Growth\n",
    "- Ytd\n",
    "- Running totals\n",
    "- That comparison chart\n",
    "- Lead, lag?.\n",
    "- Annual growth rates comparison\n",
    "- Trends YOY\n",
    "Compare monthly and annual number of sales\n",
    "\n",
    "\n"
   ]
  },
  {
   "cell_type": "markdown",
   "id": "a52d0dd8",
   "metadata": {},
   "source": [
    "<div style=\"border: 5px solid #3D0069;\n",
    "    border-radius: 10px; text-align: center; font-size: 20px; font-family: 'Merriweather'; padding: 10px; background-color: #F5E8DA\">\n",
    "  <b>When were the earliest and latest orders placed?</b>\n",
    "</div>"
   ]
  },
  {
   "cell_type": "code",
   "execution_count": 15,
   "id": "8790568d",
   "metadata": {},
   "outputs": [
    {
     "name": "stdout",
     "output_type": "stream",
     "text": [
      " * sqlite:///pandp.db\n",
      "Done.\n"
     ]
    },
    {
     "data": {
      "text/html": [
       "<table>\n",
       "    <tr>\n",
       "        <th>earliest order date</th>\n",
       "        <th>latest order date</th>\n",
       "    </tr>\n",
       "    <tr>\n",
       "        <td>2013 12 04</td>\n",
       "        <td>2017 01 02</td>\n",
       "    </tr>\n",
       "</table>"
      ],
      "text/plain": [
       "[('2013 12 04', '2017 01 02')]"
      ]
     },
     "execution_count": 15,
     "metadata": {},
     "output_type": "execute_result"
    }
   ],
   "source": [
    "%%sql\n",
    "SELECT MIN(STRFTIME('%Y %m %d', occurred_at)) 'earliest order date', MAX(STRFTIME('%Y %m %d', occurred_at)) 'latest order date'\n",
    "FROM orders;"
   ]
  },
  {
   "cell_type": "markdown",
   "id": "d3febf4a",
   "metadata": {},
   "source": [
    "The earliest recorded order was placed in December 2013 and the most recent order was placed on January 2nd, 2017. As a result, these two years will be excluded from some analyses due to the lack of sufficient data."
   ]
  },
  {
   "cell_type": "markdown",
   "id": "9321013d",
   "metadata": {},
   "source": [
    "<div style=\"border: 5px solid #6f00ff;\n",
    "    border-radius: 20px; text-align: center; font-size: 20px; font-family: 'Merriweather'; padding: 16px 0; background-color: #F5E8DA\">\n",
    "  <b>In which accounts did the top five purchases of all time occur?<b>\n",
    "</div>"
   ]
  },
  {
   "cell_type": "code",
   "execution_count": 18,
   "id": "c9b50d65",
   "metadata": {},
   "outputs": [
    {
     "name": "stdout",
     "output_type": "stream",
     "text": [
      " * sqlite:///pandp.db\n",
      "Done.\n"
     ]
    },
    {
     "data": {
      "text/html": [
       "<table>\n",
       "    <tr>\n",
       "        <th>account_id</th>\n",
       "        <th>total_amt_usd</th>\n",
       "    </tr>\n",
       "    <tr>\n",
       "        <td>4251</td>\n",
       "        <td>232207.07</td>\n",
       "    </tr>\n",
       "    <tr>\n",
       "        <td>4161</td>\n",
       "        <td>112875.18</td>\n",
       "    </tr>\n",
       "    <tr>\n",
       "        <td>4211</td>\n",
       "        <td>107533.55</td>\n",
       "    </tr>\n",
       "    <tr>\n",
       "        <td>2861</td>\n",
       "        <td>95005.82</td>\n",
       "    </tr>\n",
       "    <tr>\n",
       "        <td>4101</td>\n",
       "        <td>93547.84</td>\n",
       "    </tr>\n",
       "</table>"
      ],
      "text/plain": [
       "[(4251, 232207.07),\n",
       " (4161, 112875.18),\n",
       " (4211, 107533.55),\n",
       " (2861, 95005.82),\n",
       " (4101, 93547.84)]"
      ]
     },
     "execution_count": 18,
     "metadata": {},
     "output_type": "execute_result"
    }
   ],
   "source": [
    "%%sql\n",
    "SELECT account_id, total_amt_usd\n",
    "FROM orders\n",
    "ORDER BY total_amt_usd DESC\n",
    "LIMIT 5;"
   ]
  },
  {
   "cell_type": "markdown",
   "id": "42485fc2",
   "metadata": {},
   "source": [
    "<link href='https://fonts.googleapis.com/css?family=Merriweather' rel='stylesheet'>\n",
    "<h2 style=\"background-color: #F5E8DA; color: #50006C; font-family: 'Merriweather'; font-weight: bold; font-size: 20px; text-align: center; padding: 10px 0;\">\n",
    "  5. Conclusions\n",
    "</h2>\n"
   ]
  },
  {
   "cell_type": "markdown",
   "id": "d7edd80b",
   "metadata": {},
   "source": [
    "<link href='https://fonts.googleapis.com/css?family=Merriweather' rel='stylesheet'>\n",
    "<h2 style=\"background-color: #F5E8DA; color: #50006C; font-family: 'Merriweather'; font-weight: bold; font-size: 20px; text-align: center; padding: 10px 0;\">\n",
    "  6. Recommendations\n",
    "</h2>\n"
   ]
  },
  {
   "cell_type": "markdown",
   "id": "1fb4a0cf",
   "metadata": {},
   "source": [
    "<link href='https://fonts.googleapis.com/css?family=Merriweather' rel='stylesheet'>\n",
    "<h2 style=\"background-color: #F5E8DA; color: #50006C; font-family: 'Merriweather'; font-weight: bold; font-size: 20px; text-align: center; padding: 10px 0;\">\n",
    "  7. References\n",
    "</h2>\n"
   ]
  },
  {
   "cell_type": "markdown",
   "id": "047ca752",
   "metadata": {},
   "source": [
    "\n",
    "<footer style=\"background-color: #3D0069; color: white ; font-family: 'Merriweather'; font-weight: bold; text-align: center; padding: 20px 0; font-size: 16px;\">\n",
    "    <p style=\"text-align: center;\"> <i>Datavestigating to connect the facts</i> </p>\n",
    "    <p style=\"font-size: 14px; text-align: center;\">&copy; The Datavestigator</p>   \n",
    "</footer>"
   ]
  }
 ],
 "metadata": {
  "kernelspec": {
   "display_name": "Python 3 (ipykernel)",
   "language": "python",
   "name": "python3"
  },
  "language_info": {
   "codemirror_mode": {
    "name": "ipython",
    "version": 3
   },
   "file_extension": ".py",
   "mimetype": "text/x-python",
   "name": "python",
   "nbconvert_exporter": "python",
   "pygments_lexer": "ipython3",
   "version": "3.9.7"
  }
 },
 "nbformat": 4,
 "nbformat_minor": 5
}
